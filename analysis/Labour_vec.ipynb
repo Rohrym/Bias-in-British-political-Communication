{
 "cells": [
  {
   "cell_type": "code",
   "execution_count": null,
   "metadata": {
    "colab": {
     "base_uri": "https://localhost:8080/"
    },
    "executionInfo": {
     "elapsed": 16294,
     "status": "ok",
     "timestamp": 1647095444514,
     "user": {
      "displayName": "J. Bakema",
      "photoUrl": "https://lh3.googleusercontent.com/a/default-user=s64",
      "userId": "17259339113560054463"
     },
     "user_tz": -60
    },
    "id": "Ydy9zVhUHZDJ",
    "outputId": "cbd45448-356d-46a7-babb-a438c0f4ad14"
   },
   "outputs": [
    {
     "name": "stdout",
     "output_type": "stream",
     "text": [
      "Mounted at /content/drive\n"
     ]
    }
   ],
   "source": [
    "from google.colab import drive\n",
    "drive.mount('/content/drive')"
   ]
  },
  {
   "cell_type": "markdown",
   "metadata": {
    "id": "MBEE6pgeg_hD"
   },
   "source": [
    "## Loading the libraries"
   ]
  },
  {
   "cell_type": "code",
   "execution_count": null,
   "metadata": {
    "id": "PQ40ufmoHs7H"
   },
   "outputs": [],
   "source": [
    "import spacy\n",
    "import gensim\n",
    "import gensim.downloader as api\n",
    "import json\n",
    "import pandas as pd\n",
    "import matplotlib.pyplot as plt\n",
    "\n",
    "import statistics\n",
    "\n",
    "from gensim.models import Word2Vec\n",
    "from gensim.models import KeyedVectors\n",
    "from sklearn.manifold import TSNE"
   ]
  },
  {
   "cell_type": "markdown",
   "metadata": {
    "id": "APbafAk3hDtI"
   },
   "source": [
    "Initializing spacy with the english language and disabling the features `ner` & `parser` to save time, since they're not applicable"
   ]
  },
  {
   "cell_type": "code",
   "execution_count": null,
   "metadata": {
    "id": "dIuvLOISNENn"
   },
   "outputs": [],
   "source": [
    "nlp = spacy.load(\"en\", disable = [\"ner\",\"parser\"])\n"
   ]
  },
  {
   "cell_type": "markdown",
   "metadata": {
    "id": "IXfvXnbAhEpS"
   },
   "source": [
    "Below's code will deal with cleaning the dataframe that is put in as a parameter."
   ]
  },
  {
   "cell_type": "code",
   "execution_count": null,
   "metadata": {
    "id": "APbzl5cpLFwS"
   },
   "outputs": [],
   "source": [
    "def cleaning(doc):\n",
    "  txt = [token.lemma_.lower() for token in doc if not token.is_stop and len(token) > 1] # this line tokenizes, takes out stopwords, and returns lemmas. We also lowercase everything (works for english, not necessarily other langauges) and also only take words with more than one letter to get rid of punctuation. There's smarter ways to do that -- but this is meant to be simplistic!!\n",
    "  if len(txt) > 2: # dump any sentences with less than 2 words -- word2vec is based on collocation, after all...\n",
    "    return \" \".join(txt)\n",
    "\n",
    "def process(df):\n",
    "\n",
    "  ## some things you should know about this function\n",
    "  ## it takes in a pandas dataframe structured like that above\n",
    "  ## you need to have a column titled \"text\" in your dataframe which has the full text of each document\n",
    "\n",
    "  docs = [row for row in df[\"speech\"]] # get your documents as a list of individual texts -- if you get a KeyError you might have to check your dataframe\n",
    "  txts = [cleaning(doc) for doc in nlp.pipe(docs, batch_size=500, n_threads=-1)] # nlp.pipe is some spacy magic -- this is where the processing happens\n",
    "  sentences = [row.split() for row in txts if row != None] # we need to return the cleaned data (from cleaning(doc)) as sentences for Gensim\n",
    "  return sentences # this is what we pass to Gensim"
   ]
  },
  {
   "cell_type": "markdown",
   "metadata": {
    "id": "hQ9ufAtMhTmP"
   },
   "source": [
    "Linking the dataset about british political speeches.  \n",
    "This dataset has been cleaned to remove html code and only looks at the text in the speeches"
   ]
  },
  {
   "cell_type": "code",
   "execution_count": null,
   "metadata": {
    "id": "ig8XAZTQIcEI"
   },
   "outputs": [],
   "source": [
    "df = pd.read_csv('/content/drive/Shareddrives/Software_and_Data_in_Culture/Week6-Word_Embeddings/Metadata.csv')\n",
    "labour_corpus = process(df.loc[df['party'] == 'Labour'])"
   ]
  },
  {
   "cell_type": "markdown",
   "metadata": {
    "id": "VYDkIejihUtS"
   },
   "source": [
    "Creating a Word2vec model for the labour dataframe and training it."
   ]
  },
  {
   "cell_type": "code",
   "execution_count": null,
   "metadata": {
    "id": "NksLJ9g9N2FF"
   },
   "outputs": [],
   "source": [
    "## now that we've processed the texts with spacy, lets use Gensim to create a word2vec model\n",
    "\n",
    "## first we initialize the model\n",
    "from gensim.models import Word2Vec\n",
    "\n",
    "model = Word2Vec(\n",
    "    min_count = 10, ## you can mess around with these parameters (don't mess with workers though!); min_count refers to words that appear at least N times \n",
    "    window = 4, ## window refers to the size of the window +/- N words for something to count as a collocation\n",
    "    workers = 4 ## leave this one alone...refers to the number of CPUs/threads to use. This works with Google Colab so just leave it alone for now. \n",
    ")\n",
    "\n",
    "model.build_vocab(labour_corpus, progress_per = 50) # remember that sentences is just what we output after spacy did its work in the process(df) function"
   ]
  },
  {
   "cell_type": "code",
   "execution_count": null,
   "metadata": {
    "colab": {
     "base_uri": "https://localhost:8080/"
    },
    "executionInfo": {
     "elapsed": 7665,
     "status": "ok",
     "timestamp": 1647095477658,
     "user": {
      "displayName": "J. Bakema",
      "photoUrl": "https://lh3.googleusercontent.com/a/default-user=s64",
      "userId": "17259339113560054463"
     },
     "user_tz": -60
    },
    "id": "RV2onnW5OKT1",
    "outputId": "1460a818-2275-4caa-d080-6e7fd7eb3f64"
   },
   "outputs": [
    {
     "data": {
      "text/plain": [
       "(6073830, 7371540)"
      ]
     },
     "execution_count": 9,
     "metadata": {},
     "output_type": "execute_result"
    }
   ],
   "source": [
    "## now we train the model on our data\n",
    "\n",
    "model.train(labour_corpus, total_examples = model.corpus_count, epochs = 30)\n",
    "\n",
    "## This might take quite some time again"
   ]
  },
  {
   "cell_type": "markdown",
   "metadata": {
    "id": "dAIvhu8OhgPR"
   },
   "source": [
    "Saves a word2vec file into the corresponding folder."
   ]
  },
  {
   "cell_type": "code",
   "execution_count": null,
   "metadata": {
    "id": "nrBQxK2oOR-n"
   },
   "outputs": [],
   "source": [
    "## cool. now we have a model. Now that you're refreshed from that nap, let's explore our model\n",
    "## first, save the model\n",
    "\n",
    "model_savename = \"/content/drive/Shareddrives/Software_and_Data_in_Culture/Week6-Word_Embeddings/SAPS_corpus/Labour.w2v\"\n",
    "model.wv.save(model_savename)"
   ]
  },
  {
   "cell_type": "markdown",
   "metadata": {
    "id": "Ik5ouFQ_hmsx"
   },
   "source": [
    "Loading said Word2vec file."
   ]
  },
  {
   "cell_type": "code",
   "execution_count": null,
   "metadata": {
    "id": "_-RoosIMOueT"
   },
   "outputs": [],
   "source": [
    "## ok now the model is saved, so lets reload it\n",
    "## we need to import a helper function from Gensim to reload the model\n",
    "\n",
    "from gensim.models import KeyedVectors\n",
    "\n",
    "model = KeyedVectors.load(model_savename)\n",
    "\n",
    "## it is always good practice to save and then reload your model after creating it. Also makes syntax easier later on due to pecularities with Gensim"
   ]
  },
  {
   "cell_type": "code",
   "execution_count": null,
   "metadata": {
    "id": "XTRadLhhPZll"
   },
   "outputs": [],
   "source": [
    "## :( ^^ that's what happens when you don't have a certain word in your model. (KeyError)\n",
    "## maybe you want a list of all the words in your model then?\n",
    "## this is how you do that\n",
    "\n",
    "model.vocab;"
   ]
  },
  {
   "cell_type": "markdown",
   "metadata": {
    "id": "nma2LWwlhqXH"
   },
   "source": [
    "Creating a frequency list from the words in the Conservative dataset."
   ]
  },
  {
   "cell_type": "code",
   "execution_count": null,
   "metadata": {
    "colab": {
     "base_uri": "https://localhost:8080/",
     "height": 424
    },
    "executionInfo": {
     "elapsed": 10,
     "status": "ok",
     "timestamp": 1647095477985,
     "user": {
      "displayName": "J. Bakema",
      "photoUrl": "https://lh3.googleusercontent.com/a/default-user=s64",
      "userId": "17259339113560054463"
     },
     "user_tz": -60
    },
    "id": "HO6IWT3EPbuO",
    "outputId": "8cdbcb60-7641-408b-d3d1-d89bdd188ac4"
   },
   "outputs": [
    {
     "data": {
      "text/html": [
       "\n",
       "  <div id=\"df-0c4122a1-6143-4614-b346-9d3c2df7ad74\">\n",
       "    <div class=\"colab-df-container\">\n",
       "      <div>\n",
       "<style scoped>\n",
       "    .dataframe tbody tr th:only-of-type {\n",
       "        vertical-align: middle;\n",
       "    }\n",
       "\n",
       "    .dataframe tbody tr th {\n",
       "        vertical-align: top;\n",
       "    }\n",
       "\n",
       "    .dataframe thead th {\n",
       "        text-align: right;\n",
       "    }\n",
       "</style>\n",
       "<table border=\"1\" class=\"dataframe\">\n",
       "  <thead>\n",
       "    <tr style=\"text-align: right;\">\n",
       "      <th></th>\n",
       "      <th>lemma</th>\n",
       "      <th>frequency</th>\n",
       "    </tr>\n",
       "  </thead>\n",
       "  <tbody>\n",
       "    <tr>\n",
       "      <th>12</th>\n",
       "      <td>people</td>\n",
       "      <td>3012</td>\n",
       "    </tr>\n",
       "    <tr>\n",
       "      <th>147</th>\n",
       "      <td>government</td>\n",
       "      <td>2291</td>\n",
       "    </tr>\n",
       "    <tr>\n",
       "      <th>26</th>\n",
       "      <td>year</td>\n",
       "      <td>2113</td>\n",
       "    </tr>\n",
       "    <tr>\n",
       "      <th>25</th>\n",
       "      <td>country</td>\n",
       "      <td>1869</td>\n",
       "    </tr>\n",
       "    <tr>\n",
       "      <th>120</th>\n",
       "      <td>britain</td>\n",
       "      <td>1788</td>\n",
       "    </tr>\n",
       "    <tr>\n",
       "      <th>...</th>\n",
       "      <td>...</td>\n",
       "      <td>...</td>\n",
       "    </tr>\n",
       "    <tr>\n",
       "      <th>2749</th>\n",
       "      <td>eastern</td>\n",
       "      <td>10</td>\n",
       "    </tr>\n",
       "    <tr>\n",
       "      <th>1848</th>\n",
       "      <td>construct</td>\n",
       "      <td>10</td>\n",
       "    </tr>\n",
       "    <tr>\n",
       "      <th>1060</th>\n",
       "      <td>grenfell</td>\n",
       "      <td>10</td>\n",
       "    </tr>\n",
       "    <tr>\n",
       "      <th>579</th>\n",
       "      <td>explore</td>\n",
       "      <td>10</td>\n",
       "    </tr>\n",
       "    <tr>\n",
       "      <th>1699</th>\n",
       "      <td>weather</td>\n",
       "      <td>10</td>\n",
       "    </tr>\n",
       "  </tbody>\n",
       "</table>\n",
       "<p>2895 rows × 2 columns</p>\n",
       "</div>\n",
       "      <button class=\"colab-df-convert\" onclick=\"convertToInteractive('df-0c4122a1-6143-4614-b346-9d3c2df7ad74')\"\n",
       "              title=\"Convert this dataframe to an interactive table.\"\n",
       "              style=\"display:none;\">\n",
       "        \n",
       "  <svg xmlns=\"http://www.w3.org/2000/svg\" height=\"24px\"viewBox=\"0 0 24 24\"\n",
       "       width=\"24px\">\n",
       "    <path d=\"M0 0h24v24H0V0z\" fill=\"none\"/>\n",
       "    <path d=\"M18.56 5.44l.94 2.06.94-2.06 2.06-.94-2.06-.94-.94-2.06-.94 2.06-2.06.94zm-11 1L8.5 8.5l.94-2.06 2.06-.94-2.06-.94L8.5 2.5l-.94 2.06-2.06.94zm10 10l.94 2.06.94-2.06 2.06-.94-2.06-.94-.94-2.06-.94 2.06-2.06.94z\"/><path d=\"M17.41 7.96l-1.37-1.37c-.4-.4-.92-.59-1.43-.59-.52 0-1.04.2-1.43.59L10.3 9.45l-7.72 7.72c-.78.78-.78 2.05 0 2.83L4 21.41c.39.39.9.59 1.41.59.51 0 1.02-.2 1.41-.59l7.78-7.78 2.81-2.81c.8-.78.8-2.07 0-2.86zM5.41 20L4 18.59l7.72-7.72 1.47 1.35L5.41 20z\"/>\n",
       "  </svg>\n",
       "      </button>\n",
       "      \n",
       "  <style>\n",
       "    .colab-df-container {\n",
       "      display:flex;\n",
       "      flex-wrap:wrap;\n",
       "      gap: 12px;\n",
       "    }\n",
       "\n",
       "    .colab-df-convert {\n",
       "      background-color: #E8F0FE;\n",
       "      border: none;\n",
       "      border-radius: 50%;\n",
       "      cursor: pointer;\n",
       "      display: none;\n",
       "      fill: #1967D2;\n",
       "      height: 32px;\n",
       "      padding: 0 0 0 0;\n",
       "      width: 32px;\n",
       "    }\n",
       "\n",
       "    .colab-df-convert:hover {\n",
       "      background-color: #E2EBFA;\n",
       "      box-shadow: 0px 1px 2px rgba(60, 64, 67, 0.3), 0px 1px 3px 1px rgba(60, 64, 67, 0.15);\n",
       "      fill: #174EA6;\n",
       "    }\n",
       "\n",
       "    [theme=dark] .colab-df-convert {\n",
       "      background-color: #3B4455;\n",
       "      fill: #D2E3FC;\n",
       "    }\n",
       "\n",
       "    [theme=dark] .colab-df-convert:hover {\n",
       "      background-color: #434B5C;\n",
       "      box-shadow: 0px 1px 3px 1px rgba(0, 0, 0, 0.15);\n",
       "      filter: drop-shadow(0px 1px 2px rgba(0, 0, 0, 0.3));\n",
       "      fill: #FFFFFF;\n",
       "    }\n",
       "  </style>\n",
       "\n",
       "      <script>\n",
       "        const buttonEl =\n",
       "          document.querySelector('#df-0c4122a1-6143-4614-b346-9d3c2df7ad74 button.colab-df-convert');\n",
       "        buttonEl.style.display =\n",
       "          google.colab.kernel.accessAllowed ? 'block' : 'none';\n",
       "\n",
       "        async function convertToInteractive(key) {\n",
       "          const element = document.querySelector('#df-0c4122a1-6143-4614-b346-9d3c2df7ad74');\n",
       "          const dataTable =\n",
       "            await google.colab.kernel.invokeFunction('convertToInteractive',\n",
       "                                                     [key], {});\n",
       "          if (!dataTable) return;\n",
       "\n",
       "          const docLinkHtml = 'Like what you see? Visit the ' +\n",
       "            '<a target=\"_blank\" href=https://colab.research.google.com/notebooks/data_table.ipynb>data table notebook</a>'\n",
       "            + ' to learn more about interactive tables.';\n",
       "          element.innerHTML = '';\n",
       "          dataTable['output_type'] = 'display_data';\n",
       "          await google.colab.output.renderOutput(dataTable, element);\n",
       "          const docLink = document.createElement('div');\n",
       "          docLink.innerHTML = docLinkHtml;\n",
       "          element.appendChild(docLink);\n",
       "        }\n",
       "      </script>\n",
       "    </div>\n",
       "  </div>\n",
       "  "
      ],
      "text/plain": [
       "           lemma  frequency\n",
       "12        people       3012\n",
       "147   government       2291\n",
       "26          year       2113\n",
       "25       country       1869\n",
       "120      britain       1788\n",
       "...          ...        ...\n",
       "2749     eastern         10\n",
       "1848   construct         10\n",
       "1060    grenfell         10\n",
       "579      explore         10\n",
       "1699     weather         10\n",
       "\n",
       "[2895 rows x 2 columns]"
      ]
     },
     "execution_count": 13,
     "metadata": {},
     "output_type": "execute_result"
    }
   ],
   "source": [
    "## that's not super useful in itself\n",
    "## let's make a table of our vocabulary with frequency\n",
    "\n",
    "## set up a list to store our words + frequencies\n",
    "records = list()\n",
    "\n",
    "## iterate over every word in the vocab and get its frequency and save it to records\n",
    "for word in model.vocab:\n",
    "  records.append((word, model.vocab[word].count))\n",
    "\n",
    "## make a table with some pandas magic\n",
    "model_vocab_df = pd.DataFrame.from_records(records, columns = [\"lemma\",\"frequency\"])\n",
    "model_vocab_df.sort_values(\"frequency\", ascending=False)"
   ]
  },
  {
   "cell_type": "code",
   "execution_count": null,
   "metadata": {
    "id": "PLu6kTLJQVhd"
   },
   "outputs": [],
   "source": [
    "## NAIVE 2D Projection\n",
    "## first I set up a function to do the plotting.\n",
    "\n",
    "def naive_projection(x_axis, y_axis, test_words, model, plot_size=8):\n",
    "\n",
    "\n",
    "  ## check if you have the right input data\n",
    "  if len(x_axis) != 2:\n",
    "    print(\"You must only have two antonyms in your x-axis\")\n",
    "  elif len(y_axis) !=2:\n",
    "    print(\"You must only have two antonyms in your y-axis\")\n",
    "  else:\n",
    "\n",
    "    ## lets do the projection\n",
    "\n",
    "    x = list() # store x values for each test word\n",
    "    y = list()\n",
    "\n",
    "    ## now, we calculate the x and y coordinates for each of our test words\n",
    "    for word in test_words:\n",
    "      x_val = model.distance(x_axis[0], word) - model.distance(x_axis[1], word) # x_axis[0] is the first word of your antonym pair, x_axis[1] is the second word\n",
    "      y_val = model.distance(y_axis[0], word) - model.distance(y_axis[1], word) # same thing, 0,1 here to select your antonyms\n",
    "      x.append(x_val) # save x/y in our lists above\n",
    "      y.append(y_val)\n",
    "    \n",
    "    ## now we plot the x/y values we just calculated\n",
    "\n",
    "    fig, ax = plt.subplots(figsize=(plot_size,plot_size))\n",
    "\n",
    "    for i in range(len(x)):\n",
    "      ax.scatter(x[i], y[i])\n",
    "      ax.annotate(test_words[i], (x[i], y[i]))\n",
    "    \n",
    "    xlab = x_axis[0] + \" --- \" + x_axis[1]\n",
    "    ylab = y_axis[0] + \" --- \" + y_axis[1]\n",
    "    plt.xlabel(xlab)\n",
    "    plt.ylabel(ylab)\n",
    "\n",
    "    plt.show()"
   ]
  },
  {
   "cell_type": "markdown",
   "metadata": {
    "id": "0gWc5PpHhwh3"
   },
   "source": [
    "Plotting the naive projection with `socialism` & `capitalism` on the x-axis  and `rich` & `poor` on the y-axis."
   ]
  },
  {
   "cell_type": "code",
   "execution_count": null,
   "metadata": {
    "colab": {
     "base_uri": "https://localhost:8080/",
     "height": 497
    },
    "executionInfo": {
     "elapsed": 534,
     "status": "ok",
     "timestamp": 1647095478512,
     "user": {
      "displayName": "J. Bakema",
      "photoUrl": "https://lh3.googleusercontent.com/a/default-user=s64",
      "userId": "17259339113560054463"
     },
     "user_tz": -60
    },
    "id": "K1CwrFOEP5F8",
    "outputId": "99871fab-df39-42d2-bcd5-019207ea3279"
   },
   "outputs": [
    {
     "data": {
      "image/png": "[encoded data removed]",
      "text/plain": [
       "<Figure size 576x576 with 1 Axes>"
      ]
     },
     "metadata": {
      "needs_background": "light"
     },
     "output_type": "display_data"
    }
   ],
   "source": [
    "## from Part 1, we learned how to explore a model -- so you can do that here, just add in some code cells as you wish\n",
    "## now lets try to do some projections\n",
    "## i'm going to do something pretty dumb...like use smart/dumb as an axis :p\n",
    "\n",
    "x_axis = [\"socialism\",\"capitalism\"]\n",
    "y_axis = [\"rich\",\"poor\"]\n",
    "test_words = [\"labour\",\"conservative\", \"liberal\"]\n",
    "\n",
    "naive_projection(x_axis, y_axis, test_words, model)"
   ]
  },
  {
   "cell_type": "code",
   "execution_count": null,
   "metadata": {
    "id": "ZNuyX_VzRX9_"
   },
   "outputs": [],
   "source": [
    "##Creating an advanced projection\n",
    "\n",
    "def advanced_projection(x_dimensions, y_dimensions, test_words, model, plot_size=6, xlab=\"label\", ylab = \"label\"):\n",
    "  x = list()\n",
    "  y = list()\n",
    "\n",
    "  ## measure each word against our composite axes, eg. \"engineer\"\n",
    "  for word in test_words:\n",
    "\n",
    "    ## set up some lists to hold our calculations\n",
    "    x_vals = list()\n",
    "    y_vals = list()\n",
    "\n",
    "    ## this is a loop that calculates the x values for each individual dimension, eg man/woman, he/she\n",
    "    for dim in x_dimensions:\n",
    "      xval = model.distance(dim[0], word) - model.distance(dim[1], word)\n",
    "      x_vals.append(xval)\n",
    "    ## repeat for y values\n",
    "    for dim in y_dimensions:\n",
    "      yval = model.distance(dim[0], word) - model.distance(dim[1], word)\n",
    "      y_vals.append(yval)\n",
    "\n",
    "    ## ok now we need to take the average of all the x_vals and y_vals we collected for this word\n",
    "    xavg = statistics.mean(x_vals)\n",
    "    yavg = statistics.mean(y_vals)\n",
    "\n",
    "    ## now lets save this to our x and y lists that we set up above (outside the for word in test_words loop) so that we can plot the word\n",
    "    x.append(xavg)\n",
    "    y.append(yavg)\n",
    "  \n",
    "  ## OK time to plot!\n",
    "  fig, ax = plt.subplots(figsize=(plot_size,plot_size))\n",
    "\n",
    "  for i in range(len(x)):\n",
    "    ax.scatter(x[i], y[i])\n",
    "    ax.annotate(test_words[i], (x[i], y[i]))\n",
    "\n",
    "  plt.xlabel(xlab)\n",
    "  plt.ylabel(ylab)\n",
    "\n",
    "  plt.show()"
   ]
  },
  {
   "cell_type": "markdown",
   "metadata": {
    "id": "L4lxmePSh6O6"
   },
   "source": [
    "Here, we plot the axes with more than just one pair of antonyms."
   ]
  },
  {
   "cell_type": "code",
   "execution_count": null,
   "metadata": {
    "colab": {
     "base_uri": "https://localhost:8080/",
     "height": 497
    },
    "executionInfo": {
     "elapsed": 10,
     "status": "ok",
     "timestamp": 1647095478513,
     "user": {
      "displayName": "J. Bakema",
      "photoUrl": "https://lh3.googleusercontent.com/a/default-user=s64",
      "userId": "17259339113560054463"
     },
     "user_tz": -60
    },
    "id": "BUjyvzkUQJ8w",
    "outputId": "8dc836e8-2fef-4757-8ea5-4d98c59c8eee"
   },
   "outputs": [
    {
     "data": {
      "image/png": "[encoded data removed]",
      "text/plain": [
       "<Figure size 576x576 with 1 Axes>"
      ]
     },
     "metadata": {
      "needs_background": "light"
     },
     "output_type": "display_data"
    }
   ],
   "source": [
    "x_dimensions = [\n",
    "          [\"conservative\",\"progressive\"],\n",
    "          [\"capitalism\",\"socialist\"],\n",
    "          [\"right\",\"left\"]\n",
    "]\n",
    "\n",
    "## remember -- check that these words actually exist in your vocab table -- a KeyError likely indicates one word or another is missing.\n",
    "\n",
    "y_dimensions = [\n",
    "                [\"good\",\"bad\"],\n",
    "                [\"fair\",\"unfair\"],\n",
    "                [\"right\",\"wrong\"],\n",
    "                [\"justice\",\"injustice\"]\n",
    "]\n",
    "\n",
    "test_words = [\"christian\",\"muslim\",\"white\", \"black\",\"european\", \"immigrant\",\"refugee\",\"american\",\"irish\",\"french\",\"german\",\"russian\",\"soviet\"]\n",
    "\n",
    "## scroll to the previous sections if you need a reminder on how to use the function\n",
    "advanced_projection(\n",
    "    x_dimensions,\n",
    "    y_dimensions,\n",
    "    test_words,\n",
    "    model,\n",
    "    plot_size=8,\n",
    "    xlab = \"right -- left\",\n",
    "    ylab = \"moral -- immoral\"\n",
    ")"
   ]
  },
  {
   "cell_type": "code",
   "execution_count": null,
   "metadata": {
    "colab": {
     "base_uri": "https://localhost:8080/",
     "height": 497
    },
    "executionInfo": {
     "elapsed": 280,
     "status": "ok",
     "timestamp": 1647095478785,
     "user": {
      "displayName": "J. Bakema",
      "photoUrl": "https://lh3.googleusercontent.com/a/default-user=s64",
      "userId": "17259339113560054463"
     },
     "user_tz": -60
    },
    "id": "4buI5fxPRWQC",
    "outputId": "0643ff1d-e8ff-4456-b289-9a79c1912823"
   },
   "outputs": [
    {
     "data": {
      "image/png": "[encoded data removed]",
      "text/plain": [
       "<Figure size 576x576 with 1 Axes>"
      ]
     },
     "metadata": {
      "needs_background": "light"
     },
     "output_type": "display_data"
    }
   ],
   "source": [
    "x_dimensions = [\n",
    "          [\"rich\",\"poor\"],\n",
    "          [\"wealth\",\"poverty\"]\n",
    "]\n",
    "\n",
    "## remember -- check that these words actually exist in your vocab table -- a KeyError likely indicates one word or another is missing.\n",
    "\n",
    "y_dimensions = [\n",
    "                [\"old\",\"young\"],\n",
    "                [\"elderly\",\"youth\"]\n",
    "]\n",
    "\n",
    "test_words = [\"conservative\",\"liberal\",\"socialist\", \"social\",\"european\", \"immigrant\",\"refugee\",\"healthcare\",\"solidarity\",\"education\", \"welfare\",\"climate\",\"housing\"]\n",
    "\n",
    "## scroll to the previous sections if you need a reminder on how to use the function\n",
    "advanced_projection(\n",
    "    x_dimensions,\n",
    "    y_dimensions,\n",
    "    test_words,\n",
    "    model,\n",
    "    plot_size=8,\n",
    "    xlab = \"rich -- poor\",\n",
    "    ylab = \"elderly -- youth\"\n",
    ")"
   ]
  },
  {
   "cell_type": "markdown",
   "metadata": {
    "id": "kGYnCmDpaDqT"
   },
   "source": [
    "We look at some of the 'similar words' for `black man` and `white man`."
   ]
  },
  {
   "cell_type": "code",
   "execution_count": null,
   "metadata": {
    "colab": {
     "base_uri": "https://localhost:8080/"
    },
    "executionInfo": {
     "elapsed": 11,
     "status": "ok",
     "timestamp": 1647095478786,
     "user": {
      "displayName": "J. Bakema",
      "photoUrl": "https://lh3.googleusercontent.com/a/default-user=s64",
      "userId": "17259339113560054463"
     },
     "user_tz": -60
    },
    "id": "a4_k2swxaAd-",
    "outputId": "cfd2018b-836b-45c9-d692-6225b963cad0"
   },
   "outputs": [
    {
     "data": {
      "text/plain": [
       "[('wear', 0.7413709163665771),\n",
       " ('asian', 0.5797677636146545),\n",
       " ('appoint', 0.5564767122268677),\n",
       " ('mp', 0.5529608130455017),\n",
       " ('name', 0.5393565893173218),\n",
       " ('smile', 0.5251907706260681),\n",
       " ('senior', 0.511825680732727),\n",
       " ('wednesday', 0.5069620609283447),\n",
       " ('mps', 0.4997398257255554),\n",
       " ('65', 0.4931545853614807),\n",
       " ('girl', 0.48573726415634155),\n",
       " ('muslim', 0.47510695457458496),\n",
       " ('whip', 0.4645845890045166),\n",
       " ('radio', 0.46180489659309387),\n",
       " ('hole', 0.44911468029022217)]"
      ]
     },
     "execution_count": 19,
     "metadata": {},
     "output_type": "execute_result"
    }
   ],
   "source": [
    "model.most_similar(['black', 'man'], topn=15)"
   ]
  },
  {
   "cell_type": "code",
   "execution_count": null,
   "metadata": {
    "colab": {
     "base_uri": "https://localhost:8080/"
    },
    "executionInfo": {
     "elapsed": 9,
     "status": "ok",
     "timestamp": 1647095478786,
     "user": {
      "displayName": "J. Bakema",
      "photoUrl": "https://lh3.googleusercontent.com/a/default-user=s64",
      "userId": "17259339113560054463"
     },
     "user_tz": -60
    },
    "id": "sj5TWsYhaFUz",
    "outputId": "3050054d-d108-4e53-ef8c-5efd2b21dd08"
   },
   "outputs": [
    {
     "data": {
      "text/plain": [
       "[('paper', 0.6595398783683777),\n",
       " ('wear', 0.5890324115753174),\n",
       " ('black', 0.5520666241645813),\n",
       " ('appoint', 0.5354745388031006),\n",
       " ('name', 0.5282789468765259),\n",
       " ('jones', 0.514616847038269),\n",
       " ('brown', 0.5044800639152527),\n",
       " ('senior', 0.5040817260742188),\n",
       " ('mp', 0.48866575956344604),\n",
       " ('wilson', 0.48693686723709106),\n",
       " ('whip', 0.47812721133232117),\n",
       " ('shadow', 0.47243764996528625),\n",
       " ('lloyd', 0.45418882369995117),\n",
       " ('cabinet', 0.4537004828453064),\n",
       " ('portillo', 0.4489404559135437)]"
      ]
     },
     "execution_count": 20,
     "metadata": {},
     "output_type": "execute_result"
    }
   ],
   "source": [
    "model.most_similar(['white', 'man'], topn=15)"
   ]
  },
  {
   "cell_type": "markdown",
   "metadata": {
    "id": "x_nlo-koiRCs"
   },
   "source": [
    "Mapping bias between white men and black men, using words that appear close to them."
   ]
  },
  {
   "cell_type": "code",
   "execution_count": null,
   "metadata": {
    "id": "1zXcNv0gaZj7"
   },
   "outputs": [],
   "source": [
    "df_black_man = pd.DataFrame(model.most_similar(['black','man'],topn=15))\n",
    "df_white_man = pd.DataFrame(model.most_similar(['white','man'], topn=15))\n",
    "Combined_dfs = pd.merge(df_black_man\n",
    "                         ,df_white_man,on=0, how='outer').rename(columns={0:'words','1_x': 'black_man', '1_y': 'white_man'})"
   ]
  },
  {
   "cell_type": "markdown",
   "metadata": {
    "id": "zf8H73VQiXBK"
   },
   "source": [
    "Combining both df's, we keep the NaN's here because it also shows words that appear in one group and not in the other"
   ]
  },
  {
   "cell_type": "code",
   "execution_count": null,
   "metadata": {
    "colab": {
     "base_uri": "https://localhost:8080/",
     "height": 609
    },
    "executionInfo": {
     "elapsed": 561,
     "status": "ok",
     "timestamp": 1647095479342,
     "user": {
      "displayName": "J. Bakema",
      "photoUrl": "https://lh3.googleusercontent.com/a/default-user=s64",
      "userId": "17259339113560054463"
     },
     "user_tz": -60
    },
    "id": "L5x2_qUdagoa",
    "outputId": "8a93d02e-f2f9-465b-c977-e592367c15fe"
   },
   "outputs": [
    {
     "data": {
      "text/plain": [
       "Text(0, 0.5, 'words')"
      ]
     },
     "execution_count": 22,
     "metadata": {},
     "output_type": "execute_result"
    },
    {
     "data": {
      "image/png": "[encoded data removed]",
      "text/plain": [
       "<Figure size 1440x720 with 1 Axes>"
      ]
     },
     "metadata": {
      "needs_background": "light"
     },
     "output_type": "display_data"
    }
   ],
   "source": [
    "Combined_plot = Combined_dfs.plot.barh(x='words', figsize=(20,10))\n",
    "Combined_plot.set_xlim(0,1)\n",
    "\n",
    "Combined_plot.set_ylabel('words')"
   ]
  },
  {
   "cell_type": "code",
   "execution_count": null,
   "metadata": {
    "id": "7UUcFHk_ifHq"
   },
   "outputs": [],
   "source": []
  }
 ],
 "metadata": {
  "colab": {
   "collapsed_sections": [],
   "name": "Labour_vec",
   "provenance": [
    {
     "file_id": "1nS9E119zugEZ-AoSpjqwbGYIb2_wOXex",
     "timestamp": 1647008221052
    }
   ]
  },
  "kernelspec": {
   "display_name": "Python 3 (ipykernel)",
   "language": "python",
   "name": "python3"
  },
  "language_info": {
   "codemirror_mode": {
    "name": "ipython",
    "version": 3
   },
   "file_extension": ".py",
   "mimetype": "text/x-python",
   "name": "python",
   "nbconvert_exporter": "python",
   "pygments_lexer": "ipython3",
   "version": "3.9.13"
  }
 },
 "nbformat": 4,
 "nbformat_minor": 1
}
