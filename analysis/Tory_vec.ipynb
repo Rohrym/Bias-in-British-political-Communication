{
 "cells": [
  {
   "cell_type": "markdown",
   "metadata": {
    "id": "Eg6wvLVScpFQ"
   },
   "source": [
    "## Loading the libraries"
   ]
  },
  {
   "cell_type": "code",
   "execution_count": 26,
   "metadata": {
    "id": "PQ40ufmoHs7H"
   },
   "outputs": [],
   "source": [
    "import os\n",
    "import spacy\n",
    "import gensim\n",
    "import gensim.downloader as api\n",
    "import json\n",
    "import pandas as pd\n",
    "import matplotlib.pyplot as plt\n",
    "import nltk\n",
    "from nltk import pos_tag\n",
    "import statistics\n",
    "import numpy as np\n",
    "from gensim.models import Word2Vec\n",
    "from gensim.models import KeyedVectors\n",
    "from sklearn.manifold import TSNE"
   ]
  },
  {
   "cell_type": "code",
   "execution_count": 4,
   "metadata": {
    "colab": {
     "base_uri": "https://localhost:8080/"
    },
    "executionInfo": {
     "elapsed": 7,
     "status": "ok",
     "timestamp": 1647093433399,
     "user": {
      "displayName": "J. Bakema",
      "photoUrl": "https://lh3.googleusercontent.com/a/default-user=s64",
      "userId": "17259339113560054463"
     },
     "user_tz": -60
    },
    "id": "CBqEPLZj5eZS",
    "outputId": "b925d729-efd9-443b-ba81-8aff84146c22"
   },
   "outputs": [
    {
     "name": "stderr",
     "output_type": "stream",
     "text": [
      "[nltk_data] Downloading package averaged_perceptron_tagger to\n",
      "[nltk_data]     C:\\Users\\Gebruiker\\AppData\\Roaming\\nltk_data...\n",
      "[nltk_data]   Unzipping taggers\\averaged_perceptron_tagger.zip.\n"
     ]
    },
    {
     "data": {
      "text/plain": [
       "True"
      ]
     },
     "execution_count": 4,
     "metadata": {},
     "output_type": "execute_result"
    }
   ],
   "source": [
    "nltk.download('averaged_perceptron_tagger')"
   ]
  },
  {
   "cell_type": "markdown",
   "metadata": {
    "id": "2OUoJ7gUcsxP"
   },
   "source": [
    "Initializing spacy with the english language and disabling the features `ner` & `parser` to save time, since they're not applicable"
   ]
  },
  {
   "cell_type": "code",
   "execution_count": 21,
   "metadata": {
    "id": "dIuvLOISNENn"
   },
   "outputs": [],
   "source": [
    "nlp = spacy.load(\"en_core_web_sm\", disable = [\"ner\",\"parser\"])"
   ]
  },
  {
   "cell_type": "markdown",
   "metadata": {
    "id": "zT0n6LApdI-J"
   },
   "source": [
    "Below's code will deal with cleaning the dataframe that is put in as a parameter."
   ]
  },
  {
   "cell_type": "code",
   "execution_count": 30,
   "metadata": {
    "id": "APbzl5cpLFwS"
   },
   "outputs": [],
   "source": [
    "def cleaning(doc):\n",
    "  txt = [token.lemma_.lower() for token in doc if not token.is_stop and len(token) > 1] # this line tokenizes, takes out stopwords, and returns lemmas. We also lowercase everything (works for english, not necessarily other langauges) and also only take words with more than one letter to get rid of punctuation. There's smarter ways to do that -- but this is meant to be simplistic!!\n",
    "  if len(txt) > 2: # dump any sentences with less than 2 words -- word2vec is based on collocation, after all...\n",
    "    return \" \".join(txt)\n",
    "\n",
    "def process(df):\n",
    "\n",
    "  ## some things you should know about this function\n",
    "  ## it takes in a pandas dataframe structured like that above\n",
    "  ## you need to have a column titled \"text\" in your dataframe which has the full text of each document\n",
    "\n",
    "  docs = [row for row in df[\"speech\"]] # get your documents as a list of individual texts -- if you get a KeyError you might have to check your dataframe\n",
    "  txts = [cleaning(doc) for doc in nlp.pipe(docs, batch_size=500)] # nlp.pipe is some spacy magic -- this is where the processing happens\n",
    "  sentences = [row.split() for row in txts if row != None] # we need to return the cleaned data (from cleaning(doc)) as sentences for Gensim\n",
    "  return sentences # this is what we pass to Gensim"
   ]
  },
  {
   "cell_type": "markdown",
   "metadata": {
    "id": "AVmVgknRdQts"
   },
   "source": [
    "Linking the dataset about british political speeches.  \n",
    "This dataset has been cleaned to remove html code and only looks at the text in the speeches"
   ]
  },
  {
   "cell_type": "code",
   "execution_count": 31,
   "metadata": {
    "id": "ig8XAZTQIcEI"
   },
   "outputs": [],
   "source": [
    "os.path.normpath(os.getcwd() + os.sep + os.pardir)\n",
    "df = pd.read_csv('Bias in British political Communication/data/Metadata.csv')\n",
    "\n",
    "Tory_df = df.loc[df['party'] == 'Conservative']\n",
    "tory_corpus = process(Tory_df)\n",
    "\n",
    "Labour_df = df.loc[df['party'] == 'Labour']\n",
    "labour_corpus = process(Labour_df)\n"
   ]
  },
  {
   "cell_type": "code",
   "execution_count": 32,
   "metadata": {
    "colab": {
     "base_uri": "https://localhost:8080/"
    },
    "executionInfo": {
     "elapsed": 240,
     "status": "ok",
     "timestamp": 1647093549840,
     "user": {
      "displayName": "J. Bakema",
      "photoUrl": "https://lh3.googleusercontent.com/a/default-user=s64",
      "userId": "17259339113560054463"
     },
     "user_tz": -60
    },
    "id": "fDkGGBPZJJDI",
    "outputId": "102ffa09-1d19-4d77-e2b9-2736285d9d34"
   },
   "outputs": [
    {
     "data": {
      "text/plain": [
       "118"
      ]
     },
     "execution_count": 32,
     "metadata": {},
     "output_type": "execute_result"
    }
   ],
   "source": [
    "len(tory_corpus)"
   ]
  },
  {
   "cell_type": "code",
   "execution_count": 33,
   "metadata": {
    "colab": {
     "base_uri": "https://localhost:8080/"
    },
    "executionInfo": {
     "elapsed": 3,
     "status": "ok",
     "timestamp": 1647093550562,
     "user": {
      "displayName": "J. Bakema",
      "photoUrl": "https://lh3.googleusercontent.com/a/default-user=s64",
      "userId": "17259339113560054463"
     },
     "user_tz": -60
    },
    "id": "pAeXqRwtNzpb",
    "outputId": "c5b83bd2-9c4e-4920-9f72-a267dbb6e1f4"
   },
   "outputs": [
    {
     "data": {
      "text/plain": [
       "123"
      ]
     },
     "execution_count": 33,
     "metadata": {},
     "output_type": "execute_result"
    }
   ],
   "source": [
    "len(labour_corpus)"
   ]
  },
  {
   "cell_type": "markdown",
   "metadata": {
    "id": "p2bixrzqdi66"
   },
   "source": [
    "Creating a Word2vec model for the conservative dataframe and training it."
   ]
  },
  {
   "cell_type": "code",
   "execution_count": 34,
   "metadata": {
    "id": "NksLJ9g9N2FF"
   },
   "outputs": [],
   "source": [
    "## now that we've processed the texts with spacy, lets use Gensim to create a word2vec model\n",
    "\n",
    "## first we initialize the model\n",
    "from gensim.models import Word2Vec\n",
    "\n",
    "model_tory = Word2Vec(\n",
    "    min_count = 10, ## you can mess around with these parameters (don't mess with workers though!); min_count refers to words that appear at least N times \n",
    "    window = 4, ## window refers to the size of the window +/- N words for something to count as a collocation\n",
    "    workers = 4 ## leave this one alone...refers to the number of CPUs/threads to use. This works with Google Colab so just leave it alone for now. \n",
    ")\n",
    "\n",
    "model_tory.build_vocab(tory_corpus, progress_per = 50) # remember that sentences is just what we output after spacy did its work in the process(df) function"
   ]
  },
  {
   "cell_type": "code",
   "execution_count": 35,
   "metadata": {
    "colab": {
     "base_uri": "https://localhost:8080/"
    },
    "executionInfo": {
     "elapsed": 7958,
     "status": "ok",
     "timestamp": 1647093566059,
     "user": {
      "displayName": "J. Bakema",
      "photoUrl": "https://lh3.googleusercontent.com/a/default-user=s64",
      "userId": "17259339113560054463"
     },
     "user_tz": -60
    },
    "id": "RV2onnW5OKT1",
    "outputId": "49410d81-5f2a-4b1b-d99f-aff8c74b4640"
   },
   "outputs": [
    {
     "data": {
      "text/plain": [
       "(5465567, 6709350)"
      ]
     },
     "execution_count": 35,
     "metadata": {},
     "output_type": "execute_result"
    }
   ],
   "source": [
    "## now we train the model on our data\n",
    "\n",
    "model_tory.train(tory_corpus, total_examples = model_tory.corpus_count, epochs = 30)\n",
    "\n",
    "## This might take quite some time again"
   ]
  },
  {
   "cell_type": "markdown",
   "metadata": {
    "id": "nNSXyo-Ed0PZ"
   },
   "source": [
    "Saves a word2vec file into the corresponding folder."
   ]
  },
  {
   "cell_type": "code",
   "execution_count": 37,
   "metadata": {
    "id": "nrBQxK2oOR-n"
   },
   "outputs": [],
   "source": [
    "## cool. now we have a model. Now that you're refreshed from that nap, let's explore our model\n",
    "## first, save the model\n",
    "\n",
    "model_savename = \"Bias in British political Communication//models/Tory.w2v\"\n",
    "model_tory.wv.save(model_savename)"
   ]
  },
  {
   "cell_type": "markdown",
   "metadata": {
    "id": "DBtMI1MHd5rx"
   },
   "source": [
    "Loading said Word2vec file."
   ]
  },
  {
   "cell_type": "code",
   "execution_count": 38,
   "metadata": {
    "id": "_-RoosIMOueT"
   },
   "outputs": [],
   "source": [
    "## ok now the model is saved, so lets reload it\n",
    "## we need to import a helper function from Gensim to reload the model\n",
    "\n",
    "from gensim.models import KeyedVectors\n",
    "\n",
    "model_tory = KeyedVectors.load(model_savename)\n",
    "\n",
    "## it is always good practice to save and then reload your model after creating it. Also makes syntax easier later on due to pecularities with Gensim"
   ]
  },
  {
   "cell_type": "code",
   "execution_count": 46,
   "metadata": {
    "id": "XTRadLhhPZll"
   },
   "outputs": [
    {
     "name": "stdout",
     "output_type": "stream",
     "text": [
      "{'people': 0, 'country': 1, 'government': 2, 'party': 3, 'year': 4, 'great': 5, 'work': 6, 'want': 7, 'know': 8, 'hear': 9, 'time': 10, 'britain': 11, 'world': 12, 'new': 13, 'go': 14, 'labour': 15, 'right': 16, 'think': 17, 'come': 18, 'good': 19, 'let': 20, 'need': 21, 'believe': 22, 'say': 23, 'way': 24, 'today': 25, 'british': 26, 'thing': 27, 'policy': 28, 'mean': 29, 'conservative': 30, 'change': 31, 'life': 32, 'child': 33, 'home': 34, 'man': 35, 'nation': 36, 'like': 37, 'school': 38, 'help': 39, 'long': 40, 'tell': 41, 'give': 42, 'mr.': 43, 'get': 44, 'power': 45, 'europe': 46, 'job': 47, 'look': 48, 'trade': 49, 'day': 50, 'national': 51, 'bring': 52, 'problem': 53, 'take': 54, 'free': 55, 'service': 56, 'cheers': 57, 'state': 58, 'future': 59, 'public': 60, 'family': 61, 'well': 62, 'pay': 63, 'course': 64, 'find': 65, 'house': 66, 'society': 67, 'interest': 68, 'shall': 69, 'responsibility': 70, 'election': 71, 'stand': 72, 'build': 73, 'conference': 74, 'week': 75, 'system': 76, 'ask': 77, 'laughter': 78, 'question': 79, 'community': 80, 'economy': 81, 'political': 82, 'war': 83, 'hope': 84, 'union': 85, 'place': 86, 'industry': 87, 'support': 88, 'act': 89, 'social': 90, 'freedom': 91, 'business': 92, 'tax': 93, 'money': 94, 'million': 95, 'live': 96, 'old': 97, 'education': 98, 'deal': 99, 'reform': 100, 'law': 101, 'word': 102, 'far': 103, 'fight': 104, 'see': 105, 'minister': 106, 'face': 107, 'end': 108, 'ago': 109, 'try': 110, 'big': 111, 'high': 112, 'opportunity': 113, 'set': 114, 'hard': 115, 'clear': 116, 'increase': 117, 'speak': 118, '...': 119, 'economic': 120, 'parliament': 121, 'present': 122, 'cheer': 123, 'young': 124, 'lead': 125, 'strong': 126, 'leave': 127, 'make': 128, 'leader': 129, 'value': 130, 'duty': 131, 'human': 132, 'force': 133, 'matter': 134, 'real': 135, 'feel': 136, 'fact': 137, 'month': 138, 'foreign': 139, 'crime': 140, 'security': 141, 'united': 142, 'past': 143, 'happen': 144, 'cut': 145, 'start': 146, 'member': 147, 'control': 148, 'president': 149, 'bill': 150, 'talk': 151, 'win': 152, 'carry': 153, 'plan': 154, 'common': 155, 'sense': 156, 'applause': 157, 'remember': 158, 'meet': 159, 'create': 160, 'european': 161, 'yes': 162, 'hold': 163, 'prime': 164, 'benefit': 165, 'point': 166, 'able': 167, 'peace': 168, 'view': 169, 'turn': 170, 'speech': 171, 'history': 172, 'action': 173, 'use': 174, 'council': 175, 'wrong': 176, 'moment': 177, 'understand': 178, 'spend': 179, 'call': 180, 'parent': 181, 'grow': 182, 'term': 183, 'hand': 184, 'cause': 185, 'position': 186, 'promise': 187, 'away': 188, 'local': 189, 'politic': 190, 'principle': 191, 'important': 192, 'health': 193, 'respect': 194, 'individual': 195, 'defence': 196, 'bad': 197, 'subject': 198, 'rate': 199, 'sure': 200, 'different': 201, 'choice': 202, 'rise': 203, 'taxis': 204, 'idea': 205, 'challenge': 206, 'provide': 207, 'effort': 208, 'woman': 209, 'generation': 210, 'show': 211, 'friend': 212, 'proud': 213, 'market': 214, 'commons': 215, 'case': 216, 'continue': 217, 'vote': 218, 'result': 219, 'care': 220, 'second': 221, 'kind': 222, 'true': 223, 'rule': 224, 'run': 225, 'mind': 226, 'decision': 227, 'share': 228, 'land': 229, 'play': 230, 'success': 231, 'protect': 232, 'large': 233, 'achieve': 234, 'reason': 235, 'little': 236, 'possible': 237, 'number': 238, 'pass': 239, 'small': 240, 'office': 241, 'price': 242, 'general': 243, 'trust': 244, 'order': 245, 'answer': 246, 'lose': 247, 'unemployment': 248, 'issue': 249, 'purpose': 250, 'thank': 251, 'wish': 252, 'difficult': 253, 'fall': 254, 'stop': 255, 'nhs': 256, 'citizen': 257, 'open': 258, 'agree': 259, 'standard': 260, 'inflation': 261, 'fail': 262, 'form': 263, 'modern': 264, 'belief': 265, 'danger': 266, 'low': 267, 'doubt': 268, 'forward': 269, 'begin': 270, 'debate': 271, 'democracy': 272, 'allow': 273, 'difficulty': 274, 'half': 275, 'heart': 276, 'century': 277, 'forget': 278, 'programme': 279, 'ireland': 280, 'police': 281, 'easy': 282, 'strength': 283, 'cent': 284, 'welfare': 285, 'accept': 286, 'private': 287, 'task': 288, 'enterprise': 289, 'confidence': 290, 'faith': 291, 'treaty': 292, 'class': 293, 'fair': 294, 'teacher': 295, 'industrial': 296, 'street': 297, 'chance': 298, 'age': 299, 'nuclear': 300, 'cost': 301, 'spirit': 302, 'pension': 303, 'measure': 304, 'lie': 305, 'strike': 306, 'lord': 307, 'save': 308, 'empire': 309, 'event': 310, 'commonwealth': 311, 'self': 312, 'housing': 313, 'step': 314, 'progress': 315, 'gentleman': 316, 'have': 317, 'single': 318, 'rest': 319, 'politician': 320, 'england': 321, 'experience': 322, 'socialist': 323, 'keep': 324, 'majority': 325, 'govern': 326, 'prosperity': 327, 'poor': 328, 'condition': 329, 'record': 330, 'difference': 331, 'liberal': 332, 'regard': 333, 'recognise': 334, 'remain': 335, 'budget': 336, 'international': 337, 'improve': 338, 'approach': 339, 'area': 340, 'concern': 341, 'secretary': 342, 'seek': 343, 'rights': 344, 'debt': 345, 'truth': 346, 'agreement': 347, 'break': 348, 'follow': 349, 'vital': 350, 'learn': 351, 'authority': 352, 'conservatives': 353, 'claim': 354, 'city': 355, 'will': 356, 'receive': 357, 'exist': 358, 'choose': 359, 'scheme': 360, 'expect': 361, 'consider': 362, 'loud': 363, 'argument': 364, 'produce': 365, 'close': 366, 'wage': 367, 'serve': 368, 'deliver': 369, 'wealth': 370, 'necessary': 371, 'reach': 372, 'taxation': 373, 'hour': 374, 'tough': 375, 'head': 376, 'london': 377, 'growth': 378, 'tariff': 379, 'threat': 380, 'spending': 381, 'effect': 382, 'balance': 383, 'east': 384, 'attack': 385, 'buy': 386, 'love': 387, 'crisis': 388, 'institution': 389, 'northern': 390, 'personal': 391, 'send': 392, 'base': 393, 'fear': 394, 'socialism': 395, 'hall': 396, 'raise': 397, 'hospital': 398, 'ready': 399, 'bear': 400, 'justice': 401, 'affair': 402, 'reduce': 403, 'opinion': 404, 'opposition': 405, 'offer': 406, 'ought': 407, 'income': 408, 'proposal': 409, 'depend': 410, 'safe': 411, 'read': 412, 'secure': 413, 'responsible': 414, 'drive': 415, 'return': 416, 'chancellor': 417, 'risk': 418, 'development': 419, 'certain': 420, 'add': 421, 'colleague': 422, 'situation': 423, 'negotiation': 424, 'maintain': 425, 'special': 426, 'destroy': 427, 'states': 428, 'worker': 429, 'dream': 430, 'soviet': 431, 'ahead': 432, 'level': 433, 'earn': 434, 'blair': 435, 'desire': 436, 'liberty': 437, 'simply': 438, 'influence': 439, 'encourage': 440, 'line': 441, 'short': 442, 'succeed': 443, 'tony': 444, 'thousand': 445, 'investment': 446, 'require': 447, 'courage': 448, 'early': 449, 'write': 450, 'outside': 451, 'represent': 452, 'belong': 453, 'ensure': 454, 'kingdom': 455, 'welcome': 456, 'court': 457, 'abroad': 458, 'example': 459, 'voice': 460, 'involve': 461, 'weapon': 462, 'nearly': 463, 'meeting': 464, 'develop': 465, 'sit': 466, 'period': 467, 'opponent': 468, 'simple': 469, 'propose': 470, 'campaign': 471, 'attempt': 472, 'ground': 473, 'message': 474, 'firm': 475, 'energy': 476, 'lady': 477, 'join': 478, 'suffer': 479, 'america': 480, 'saving': 481, 'lot': 482, 'stay': 483, 'poverty': 484, 'export': 485, 'chairman': 486, 'battle': 487, 'defend': 488, 'demand': 489, 'constitution': 490, 'recent': 491, 'revolution': 492, 'sign': 493, 'burden': 494, 'actually': 495, 'centre': 496, 'independent': 497, 'living': 498, 'put': 499, 'discuss': 500, 'terrorism': 501, 'restore': 502, 'suppose': 503, 'yesterday': 504, 'limit': 505, 'address': 506, 'announce': 507, 'deep': 508, 'decide': 509, 'commitment': 510, 'tackle': 511, 'germany': 512, 'person': 513, 'west': 514, 'judge': 515, 'include': 516, 'tradition': 517, 'character': 518, 'absolutely': 519, 'operation': 520, 'aim': 521, 'fiscal': 522, 'role': 523, 'struggle': 524, 'test': 525, 'victory': 526, 'introduce': 527, 'group': 528, 'figure': 529, 'organisation': 530, 'circumstance': 531, 'realise': 532, 'wait': 533, 'achievement': 534, 'practical': 535, 'honour': 536, 'bind': 537, 'lay': 538, 'ownership': 539, 'ally': 540, 'culture': 541, 'vision': 542, 'listen': 543, 'pound': 544, 'eu': 545, 'terrorist': 546, 'leadership': 547, 'advantage': 548, 'instead': 549, 'criminal': 550, 'moral': 551, 'co': 552, 'method': 553, 'relation': 554, 'skill': 555, 'independence': 556, 'extra': 557, 'waste': 558, 'draw': 559, 'church': 560, 'legislation': 561, 'unity': 562, 'sort': 563, 'defeat': 564, 'treat': 565, 'soon': 566, 'company': 567, 'solve': 568, 'direction': 569, 'north': 570, 'elect': 571, 'financial': 572, 'training': 573, 'sector': 574, 'decade': 575, 'foundation': 576, 'charge': 577, 'prevent': 578, 'unionist': 579, 'pledge': 580, 'george': 581, 'report': 582, 'remind': 583, 'scotland': 584, 'express': 585, 'fast': 586, 'solution': 587, 'admit': 588, 'global': 589, 'account': 590, 'team': 591, 'cabinet': 592, 'impossible': 593, 'move': 594, 'teach': 595, 'major': 596, 'capital': 597, 'patient': 598, 'merely': 599, 'later': 600, 'failure': 601, 'road': 602, 'brown': 603, 'exchequer': 604, 'sir': 605, 'rich': 606, 'divide': 607, 'determined': 608, 'resource': 609, 'deficit': 610, 'prove': 611, 'wide': 612, 'tory': 613, 'credit': 614, 'violence': 615, 'determination': 616, 'ministers': 617, 'touch': 618, 'clearly': 619, 'radical': 620, 'quality': 621, 'chamber': 622, 'certainly': 623, 'basis': 624, 'intend': 625, 'democratic': 626, 'western': 627, 'bank': 628, 'south': 629, 'surely': 630, 'process': 631, 'mistake': 632, 'abolish': 633, 'deserve': 634, 'owe': 635, 'complete': 636, 'pursue': 637, 'movement': 638, 'story': 639, 'deny': 640, 'technology': 641, 'regulation': 642, 'conflict': 643, 'suggest': 644, 'essential': 645, 'stick': 646, 'night': 647, 'body': 648, 'lords': 649, 'enable': 650, 'object': 651, 'successful': 652, 'consequence': 653, 'drug': 654, 'fundamental': 655, 'army': 656, 'particular': 657, 'press': 658, 'importance': 659, 'property': 660, 'part': 661, 'thought': 662, 'alliance': 663, 'appeal': 664, 'affect': 665, 'sound': 666, 'russia': 667, 'employment': 668, 'production': 669, 'afford': 670, 'fellow': 671, 'food': 672, 'describe': 673, 'gain': 674, 'advance': 675, 'ordinary': 676, 'visit': 677, 'sacrifice': 678, 'ability': 679, 'proper': 680, 'round': 681, 'resolve': 682, 'dangerous': 683, 'especially': 684, 'extend': 685, 'island': 686, 'conviction': 687, 'adopt': 688, 'priority': 689, 'employer': 690, 'watch': 691, 'deeply': 692, 'shape': 693, 'middle': 694, 'town': 695, 'france': 696, 'exactly': 697, 'doctor': 698, 'fund': 699, 'invest': 700, 'military': 701, 'direct': 702, 'expenditure': 703, 'nature': 704, 'voluntary': 705, 'worth': 706, 'root': 707, 'doctrine': 708, 'repeat': 709, 'relationship': 710, 'powerful': 711, 'partner': 712, 'vast': 713, 'referendum': 714, 'recently': 715, 'constituency': 716, 'throw': 717, 'ambition': 718, 'left': 719, 'basic': 720, 'madam': 721, 'gordon': 722, 'confident': 723, 'nations': 724, 'overseas': 725, 'arrangement': 726, 'prepare': 727, 'evil': 728, 'language': 729, 'profit': 730, 'attention': 731, 'troop': 732, 'aid': 733, 'pensioner': 734, 'religion': 735, 'renew': 736, 'russian': 737, 'strengthen': 738, 'reduction': 739, 'mandate': 740, 'iraq': 741, 'imagine': 742, 'resolution': 743, 'africa': 744, 'tonight': 745, 'effective': 746, 'pride': 747, 'conservatism': 748, 'conclusion': 749, 'feeling': 750, 'expansion': 751, 'parliamentary': 752, 'late': 753, 'impose': 754, 'apply': 755, 'expand': 756, 'discipline': 757, 'undermine': 758, 'quarter': 759, 'reality': 760, 'john': 761, 'china': 762, 'prepared': 763, 'english': 764, 'talent': 765, 'father': 766, 'properly': 767, 'abuse': 768, 'obligation': 769, 'working': 770, 'natural': 771, 'field': 772, 'engage': 773, 'refuse': 774, 'attitude': 775, 'wales': 776, 'tribute': 777, 'enemy': 778, 'argue': 779, 'discussion': 780, 'likely': 781, 'judgment': 782, 'occasion': 783, 'count': 784, 'sell': 785, 'billion': 786, 'inspire': 787, 'material': 788, 'david': 789, 'remarkable': 790, 'trouble': 791, 'enjoy': 792, 'target': 793, 'university': 794, 'threaten': 795, 'finance': 796, 'spread': 797, 'decent': 798, 'oppose': 799, 'armed': 800, 'mission': 801, 'establish': 802, 'competition': 803, 'die': 804, 'reward': 805, 'aspect': 806, 'mark': 807, 'blackpool': 808, 'guarantee': 809, 'extremist': 810, 'fulfil': 811, 'explain': 812, '10': 813, 'ideal': 814, 'civil': 815, 'agriculture': 816, 'afraid': 817, 'contribution': 818, 'mention': 819, 'environment': 820, 'stability': 821, 'rely': 822, 'wonder': 823, 'coalition': 824, 'scale': 825, 'truly': 826, 'criticism': 827, 'sea': 828, 'michael': 829, 'population': 830, 'central': 831, 'protection': 832, 'nato': 833, 'race': 834, 'urge': 835, 'league': 836, 'double': 837, 'prison': 838, 'eye': 839, 'tomorrow': 840, 'decline': 841, 'detail': 842, 'one': 843, 'book': 844, 'alternative': 845, 'knowledge': 846, 'commercial': 847, 'stage': 848, 'prospect': 849, 'constitutional': 850, 'rent': 851, 'refer': 852, 'anxiety': 853, 'immigration': 854, 'safety': 855, 'bit': 856, 'borrow': 857, 'abandon': 858, 'popular': 859, 'lesson': 860, 'link': 861, 'couple': 862, 'available': 863, 'beat': 864, 'minority': 865, 'provision': 866, 'afghanistan': 867, 'phrase': 868, 'nurse': 869, 'instinct': 870, 'enter': 871, 'controversy': 872, 'preserve': 873, 'christian': 874, 'unemployed': 875, 'statement': 876, 'ignore': 877, 'morning': 878, 'remove': 879, 'wilson': 880, 'mother': 881, 'intention': 882, 'fix': 883, 'county': 884, 'grant': 885, 'climate': 886, 'settlement': 887, 'particularly': 888, 'background': 889, 'division': 890, 'improvement': 891, 'cry': 892, 'reject': 893, 'arm': 894, 'shadow': 895, 'section': 896, 'employ': 897, 'stake': 898, 'dignity': 899, 'apart': 900, 'neighbour': 901, 'huge': 902, 'contract': 903, 'judgement': 904, 'socialists': 905, 'god': 906, 'beginning': 907, 'massive': 908, 'light': 909, 'happy': 910, 'paper': 911, 'sick': 912, 'commission': 913, 'audience': 914, 'treatment': 915, 'taxpayer': 916, 'exercise': 917, 'philosophy': 918, 'negotiate': 919, 'disraeli': 920, 'immense': 921, 'organise': 922, 'response': 923, 'import': 924, 'promote': 925, 'confront': 926, 'convention': 927, 'finish': 928, 'pretend': 929, 'summer': 930, 'fully': 931, 'consideration': 932, 'practice': 933, 'train': 934, 'main': 935, 'seven': 936, 'arise': 937, 'anxious': 938, 'damage': 939, 'agricultural': 940, 'continent': 941, 'completely': 942, 'pressure': 943, 'religious': 944, 'disarmament': 945, 'key': 946, 'bible': 947, 'advice': 948, 'conduct': 949, 'necessity': 950, 'justify': 951, 'building': 952, 'white': 953, 'venture': 954, 'favour': 955, 'platform': 956, 'fit': 957, 'aspiration': 958, 'notice': 959, 'equality': 960, 'privilege': 961, 'equal': 962, 'representative': 963, 'pupil': 964, 'walk': 965, 'back': 966, 'separate': 967, 'marriage': 968, 'countryman': 969, 'insurance': 970, 'greatly': 971, 'department': 972, 'historic': 973, 'recovery': 974, 'car': 975, 'rightly': 976, 'fill': 977, 'article': 978, 'blame': 979, 'youth': 980, 'rank': 981, 'dare': 982, 'incentive': 983, 'glad': 984, 'post': 985, 'near': 986, 'avoid': 987, 'machinery': 988, 'french': 989, 'letter': 990, 'american': 991, 'hundred': 992, 'honest': 993, 'board': 994, 'connection': 995, 'hardly': 996, 'commit': 997, 'fairness': 998, 'door': 999, 'thatcher': 1000, 'devote': 1001, 'boy': 1002, 'downing': 1003, 'disaster': 1004, 'seat': 1005, 'soldier': 1006, 'foot': 1007, 'extreme': 1008, 'review': 1009, 'servant': 1010, 'supporter': 1011, 'farmer': 1012, 'twice': 1013, 'sensible': 1014, 'administration': 1015, 'march': 1016, 'imperial': 1017, 'travel': 1018, 'manifesto': 1019, 'association': 1020, 'worry': 1021, 'management': 1022, 'heavy': 1023, 'dispute': 1024, 'currency': 1025, 'bomb': 1026, 'date': 1027, 'study': 1028, 'precisely': 1029, 'whitehall': 1030, 'supply': 1031, 'irish': 1032, 'loan': 1033, 'goal': 1034, 'total': 1035, 'respond': 1036, 'theory': 1037, 'june': 1038, 'fine': 1039, 'partnership': 1040, 'factory': 1041, 'earth': 1042, 'civilised': 1043, 'declaration': 1044, 'revenue': 1045, 'gladstone': 1046, 'brighton': 1047, 'communist': 1048, 'anybody': 1049, 'largely': 1050, 'ill': 1051, 'genuine': 1052, 'neutral': 1053, 'equally': 1054, 'competitive': 1055, 'manage': 1056, 'officer': 1057, 'room': 1058, 'payment': 1059, 'manchester': 1060, 'statesman': 1061, 'settle': 1062, 'memory': 1063, 'diminish': 1064, 'news': 1065, 'neglect': 1066, 'lack': 1067, 'king': 1068, 'safeguard': 1069, 'coal': 1070, 'recession': 1071, 'finally': 1072, 'compete': 1073, 'patience': 1074, 'fire': 1075, 'enormous': 1076, 'stable': 1077, 'weak': 1078, 'prosperous': 1079, 'sum': 1080, 'determine': 1081, 'german': 1082, '25': 1083, 'birmingham': 1084, 'merit': 1085, 'uphold': 1086, 'guide': 1087, 'occur': 1088, 'cold': 1089, 'behalf': 1090, 'directly': 1091, 'sustain': 1092, 'capacity': 1093, 'loss': 1094, 'understanding': 1095, 'death': 1096, 'broad': 1097, 'quote': 1098, 'margaret': 1099, 'sentence': 1100, 'frankly': 1101, 'pocket': 1102, 'behaviour': 1103, 'daily': 1104, 'seize': 1105, 'existence': 1106, 'picture': 1107, 'kill': 1108, 'potential': 1109, 'victim': 1110, 'average': 1111, 'communism': 1112, 'naturally': 1113, 'reasonable': 1114, 'thirty': 1115, 'tragedy': 1116, 'utterly': 1117, 'define': 1118, 'option': 1119, 'destruction': 1120, 'non': 1121, 'red': 1122, 'path': 1123, 'final': 1124, 'mortgage': 1125, 'tenant': 1126, 'obvious': 1127, 'everybody': 1128, 'black': 1129, 'injustice': 1130, 'spring': 1131, 'ulster': 1132, 'science': 1133, 'probably': 1134, 'teaching': 1135, 'committee': 1136, '20': 1137, 'sight': 1138, 'excuse': 1139, 'element': 1140, 'restriction': 1141, 'warn': 1142, 'extremism': 1143, 'enthusiasm': 1144, 'list': 1145, 'iain': 1146, 'permanent': 1147, '100': 1148, 'compare': 1149, 'corner': 1150, 'compassion': 1151, 'inevitable': 1152, 'chamberlain': 1153, 'bureaucracy': 1154, 'inner': 1155, 'rid': 1156, 'minute': 1157, 'initiative': 1158, 'assembly': 1159, 'information': 1160, 'elderly': 1161, 'suit': 1162, 'grateful': 1163, 'eastern': 1164, 'deterrent': 1165, 'india': 1166, 'plain': 1167, 'instance': 1168, 'brave': 1169, 'strategy': 1170, 'contribute': 1171, 'replace': 1172, 'undertake': 1173, 'strongly': 1174, 'breakdown': 1175, 'hit': 1176, 'session': 1177, 'loyalty': 1178, 'air': 1179, 'manager': 1180, 'activity': 1181, 'similar': 1182, 'dead': 1183, 'side': 1184, 'wise': 1185, 'size': 1186, 'mass': 1187, 'insist': 1188, 'table': 1189, 'lancashire': 1190, 'barrier': 1191, 'entitle': 1192, 'weaken': 1193, 'tolerance': 1194, 'folly': 1195, 'green': 1196, 'agenda': 1197, 'canada': 1198, 'accord': 1199, 'entirely': 1200, 'straight': 1201, 'destiny': 1202, 'professional': 1203, 'deprive': 1204, 'rebuild': 1205, 'violent': 1206, 'broken': 1207, 'absolute': 1208, 'accuse': 1209, 'perfectly': 1210, 'despite': 1211, 'design': 1212, 'charity': 1213, 'grave': 1214, 'friendship': 1215, 'examine': 1216, 'willing': 1217, 'lloyd': 1218, 'minimum': 1219, 'reflect': 1220, 'reverse': 1221, 'firmly': 1222, 'launch': 1223, 'nonsense': 1224, 'universal': 1225, 'rejoice': 1226, 'catch': 1227, 'neighbourhood': 1228, 'observe': 1229, '30': 1230, 'unite': 1231, 'previous': 1232, 'legal': 1233, 'steel': 1234, 'sympathy': 1235, 'inquiry': 1236, 'territory': 1237, 'fly': 1238, 'region': 1239, 'japan': 1240, 'voter': 1241, 'hate': 1242, 'official': 1243, 'praise': 1244, 'theirs': 1245, 'thinking': 1246, 'objective': 1247, 'technical': 1248, 'imagination': 1249, 'permit': 1250, 'champion': 1251, 'churchill': 1252, 'district': 1253, 'declare': 1254, 'strange': 1255, 'pull': 1256, 'aside': 1257, 'advocate': 1258, 'evidence': 1259, 'lifetime': 1260, 'proposition': 1261, 'wholly': 1262, 'command': 1263, 'traditional': 1264, 'regional': 1265, 'wall': 1266, 'excellent': 1267, 'equipment': 1268, 'habit': 1269, 'concentrate': 1270, 'possibly': 1271, 'collective': 1272, 'push': 1273, 'nationalise': 1274, 'appear': 1275, 'mps': 1276, 'shop': 1277, 'consumer': 1278, 'expression': 1279, 'smith': 1280, 'endeavour': 1281, 'project': 1282, 'wisdom': 1283, 'quickly': 1284, 'degree': 1285, 'immediate': 1286, 'oil': 1287, 'allowance': 1288, 'bright': 1289, 'murder': 1290, 'supreme': 1291, 'alike': 1292, 'colonial': 1293, 'fortune': 1294, 'educate': 1295, 'creation': 1296, 'owner': 1297, 'terrible': 1298, 'endure': 1299, 'narrow': 1300, 'ship': 1301, 'criticise': 1302, 'candidate': 1303, 'preference': 1304, '40': 1305, 'monday': 1306, 'alter': 1307, 'speaker': 1308, 'transform': 1309, 'scrap': 1310, 'note': 1311, 'closely': 1312, 'overcome': 1313, 'diplomacy': 1314, 'sport': 1315, 'obtain': 1316, 'persuade': 1317, 'fruit': 1318, 'current': 1319, 'sake': 1320, 'cover': 1321, 'extraordinary': 1322, 'fresh': 1323, 'positive': 1324, 'peaceful': 1325, 'blow': 1326, 'extent': 1327, 'reserve': 1328, 'false': 1329, 'domestic': 1330, 'healthy': 1331, '50': 1332, 'shift': 1333, 'hurt': 1334, 'inside': 1335, 'own': 1336, 'handle': 1337, 'repair': 1338, 'employee': 1339, 'proportion': 1340, 'majesty': 1341, 'arrive': 1342, 'unique': 1343, 'trading': 1344, 'lift': 1345, 'mere': 1346, 'manner': 1347, 'penny': 1348, 'educational': 1349, 'slow': 1350, 'last': 1351, 'pleasure': 1352, 'water': 1353, 'spite': 1354, 'baldwin': 1355, 'precious': 1356, 'framework': 1357, 'match': 1358, 'grip': 1359, 'countryside': 1360, 'reply': 1361, 'uk': 1362, 'complicated': 1363, 'annual': 1364, 'profound': 1365, 'branch': 1366, 'william': 1367, 'gap': 1368, 'unable': 1369, 'borrowing': 1370, 'friendly': 1371, 'college': 1372, 'sorry': 1373, 'afternoon': 1374, 'ideology': 1375, 'mr': 1376, 'callaghan': 1377, 'assume': 1378, 'miner': 1379, 'monopoly': 1380, 'atlantic': 1381, 'utmost': 1382, 'possibility': 1383, 'liberals': 1384, 'staff': 1385, 'tear': 1386, 'surrender': 1387, 'accountable': 1388, 'nationalisation': 1389, 'acknowledge': 1390, 'ladder': 1391, 'performance': 1392, 'seriously': 1393, 'theme': 1394, 'scottish': 1395, 'fleet': 1396, 'winter': 1397, 'kid': 1398, 'active': 1399, 'borough': 1400, 'adequate': 1401, 'discover': 1402, 'july': 1403, 'sanction': 1404, 'triumph': 1405, 'grammar': 1406, 'secret': 1407, 'brilliant': 1408, 'moderation': 1409, 'shoulder': 1410, 'efficiency': 1411, 'found': 1412, 'westminster': 1413, 'crucial': 1414, 'cure': 1415, 'relief': 1416, 'card': 1417, 'identity': 1418, 'opposite': 1419, 'railway': 1420, 'generous': 1421, 'release': 1422, 'famous': 1423, 'regret': 1424, 'cease': 1425, 'carefully': 1426, 'publish': 1427, 'pick': 1428, 'page': 1429, 'prefer': 1430, 'autumn': 1431, 'personally': 1432, 'mess': 1433, 'primary': 1434, 'stress': 1435, 'tie': 1436, 'occupy': 1437, 'weakness': 1438, 'tolerate': 1439, 'asset': 1440, 'output': 1441, 'regulate': 1442, 'constructive': 1443, 'structure': 1444, 'restraint': 1445, 'charter': 1446, 'transport': 1447, 'unit': 1448, 'master': 1449, 'alive': 1450, 'son': 1451, '1951': 1452, 'navy': 1453, 'wing': 1454, 'propaganda': 1455, 'remedy': 1456, 'partly': 1457, 'govern\\xadment': 1458, 'vulnerable': 1459, 'source': 1460, 'brain': 1461, 'endless': 1462, 'passion': 1463, 'preach': 1464, 'search': 1465, 'intervention': 1466, 'islam': 1467, 'contrast': 1468, 'customer': 1469, 'aware': 1470, 'machine': 1471, 'ban': 1472, 'interesting': 1473, 'incident': 1474, 'contain': 1475, 'border': 1476, 'innovation': 1477, 'asquith': 1478, 'entrepreneur': 1479, 'alongside': 1480, 'manufacture': 1481, 'civilisation': 1482, '18': 1483, 'cotton': 1484, 'research': 1485, 'profoundly': 1486, 'shore': 1487, 'condemn': 1488, 'immediately': 1489, 'flourish': 1490, 'wednesday': 1491, 'abide': 1492, 'balfour': 1493, 'australia': 1494, 'content': 1495, 'confess': 1496, 'miss': 1497, 'businessman': 1498, 'assure': 1499, 'submit': 1500, 'focus': 1501, 'expert': 1502, 'legitimate': 1503, 'mutual': 1504, 'relate': 1505, 'intelligence': 1506, 'cast': 1507, 'chief': 1508, 'dr.': 1509, 'splendid': 1510, 'interference': 1511, 'boast': 1512, 'roll': 1513, 'associate': 1514, 'clean': 1515, 'sentiment': 1516, 'loyal': 1517, 'product': 1518, 'commerce': 1519, 'outstanding': 1520, 'planning': 1521, '1979': 1522, 'exciting': 1523, 'prevail': 1524, 'perfect': 1525, 'fault': 1526, 'effectively': 1527, 'additional': 1528, 'constantly': 1529, 'disabled': 1530, 'recall': 1531, 'easily': 1532, 'substantial': 1533, 'interfere': 1534, 'network': 1535, 'ed': 1536, 'retirement': 1537, 'behave': 1538, 'flow': 1539, 'cancer': 1540, 'james': 1541, 'wonderful': 1542, 'iran': 1543, 'expense': 1544, 'resist': 1545, 'morality': 1546, 'highly': 1547, 'prize': 1548, 'legacy': 1549, 'berlin': 1550, 'surplus': 1551, 'normal': 1552, 'combine': 1553, 'protest': 1554, 'muslims': 1555, 'newspaper': 1556, 'trial': 1557, 'hesitate': 1558, 'addition': 1559, 'steady': 1560, 'ira': 1561, 'virtue': 1562, 'steadily': 1563, 'colony': 1564, 'television': 1565, 'withdraw': 1566, 'limitation': 1567, 'speed': 1568, 'productivity': 1569, 'worried': 1570, 'bench': 1571, 'forever': 1572, 'experiment': 1573, 'worthy': 1574, 'incredibly': 1575, 'diplomatic': 1576, 'sovereign': 1577, 'gathering': 1578, 'establishment': 1579, 'proceed': 1580, 'earning': 1581, 'disastrous': 1582, 'gratitude': 1583, 'estate': 1584, 'contempt': 1585, 'substance': 1586, 'absurd': 1587, 'damaging': 1588, 'distant': 1589, 'feed': 1590, 'terror': 1591, 'convinced': 1592, 'executive': 1593, 'dominate': 1594, 'boom': 1595, 'explanation': 1596, 'ministry': 1597, 'emergency': 1598, 'accomplish': 1599, 'considerable': 1600, 'ruin': 1601, 'deliberately': 1602, 'meaning': 1603, 'tories': 1604, 'specific': 1605, 'cobden': 1606, 'contrary': 1607, 'rural': 1608, 'penalty': 1609, 'consent': 1610, 'subsidy': 1611, 'connect': 1612, 'increasingly': 1613, 'sweep': 1614, 'necessarily': 1615, 'rapidly': 1616, 'game': 1617, 'goodwill': 1618, 'soul': 1619, 'brussels': 1620, 'strategic': 1621, 'principal': 1622, 'scandal': 1623, 'expectation': 1624, 'conventional': 1625, 'fashion': 1626, 'efficient': 1627, 'style': 1628, 'maintenance': 1629, 'gulf': 1630, 'italy': 1631, 'piece': 1632, 'survive': 1633, 'suddenly': 1634, 'ballot': 1635, 'exclude': 1636, 'patriotism': 1637, 'geneva': 1638, 'exchange': 1639, '12': 1640, 'manufacturing': 1641, 'quiet': 1642, 'flag': 1643, 'distinction': 1644, 'consistent': 1645, 'betray': 1646, 'entry': 1647, 'apparently': 1648, 'trap': 1649, 'adapt': 1650, 'predecessor': 1651, 'colonies': 1652, 'queen': 1653, 'observation': 1654, 'integrity': 1655, 'royal': 1656, 'norman': 1657, '1970': 1658, 'length': 1659, 'corporation': 1660, 'freeze': 1661, 'un': 1662, 'rhetoric': 1663, 'stock': 1664, 'encouragement': 1665, 'resume': 1666, 'convince': 1667, 'strive': 1668, 'producer': 1669, 'impact': 1670, 'holiday': 1671, 'passionately': 1672, 'thursday': 1673, 'household': 1674, 'missile': 1675, 'pakistan': 1676, 'invite': 1677, 'emerge': 1678, 'adult': 1679, 'load': 1680, 'shame': 1681, 'forces': 1682, 'origin': 1683, 'reformer': 1684, 'curriculum': 1685, 'complex': 1686, 'retreat': 1687, 'inherit': 1688, 'fourth': 1689, 'few': 1690, 'inspiration': 1691, 'rival': 1692, 'flexible': 1693, 'girl': 1694, 'pretty': 1695, 'park': 1696, 'plant': 1697, 'careful': 1698, 'summit': 1699, 'offender': 1700, 'accountability': 1701, 'tide': 1702, 'slowly': 1703, 'block': 1704, 'dark': 1705, 'joint': 1706, 'demonstrate': 1707, 'creed': 1708, 'admiration': 1709, 'classroom': 1710, 'ultimate': 1711, 'bond': 1712, 'euro': 1713, 'render': 1714, 'peter': 1715, 'muslim': 1716, 'gather': 1717, 'dependency': 1718, 'syria': 1719, 'retire': 1720, 'recognition': 1721, 'oh': 1722, 'asia': 1723, 'japanese': 1724, 'wife': 1725, 'humanity': 1726, 'injure': 1727, 'liberalism': 1728, 'mile': 1729, 'consist': 1730, 'fortunate': 1731, 'comfort': 1732, 'utter': 1733, 'approve': 1734, 'delay': 1735, 'student': 1736, 'recommend': 1737, 'weigh': 1738, 'progressive': 1739, 'objection': 1740, 'childcare': 1741, 'foolish': 1742, 'concerned': 1743, 'repudiate': 1744, 'april': 1745, 'fuel': 1746, 'moderate': 1747, 'escape': 1748, 'chapter': 1749, 'gun': 1750, 'secular': 1751, 'politically': 1752, 'democrats': 1753, 'blood': 1754, 'freely': 1755, 'decisive': 1756, 'weight': 1757, 'purchase': 1758, 'heritage': 1759, 'knife': 1760, 'secondary': 1761, 'glory': 1762, 'earner': 1763, 'consult': 1764, 'tyranny': 1765, 'temporary': 1766, 'painful': 1767, 'anti': 1768, 'art': 1769, 'sufficient': 1770, 'hatred': 1771, 'scene': 1772, 'powers': 1773, 'exam': 1774, 'scientific': 1775, 'nonconformist': 1776, 'clause': 1777, 'reputation': 1778, 'dominions': 1779, 'horror': 1780, 'councillor': 1781, 'useful': 1782, 'camp': 1783, 'cap': 1784, 'ultimately': 1785, 'angry': 1786, '24': 1787, 'favourite': 1788, 'greece': 1789, 'genuinely': 1790, 'perform': 1791, 'range': 1792, 'sterling': 1793, 'ancient': 1794, 'print': 1795, 'suffering': 1796, 'surprised': 1797, 'cherish': 1798, 'despair': 1799, 'grasp': 1800, '60': 1801, 'limited': 1802, 'mood': 1803, 'quick': 1804, 'flat': 1805, 'spiritual': 1806, 'pain': 1807, 'drag': 1808, 'cheap': 1809, 'glasgow': 1810, 'comment': 1811, 'equip': 1812, 'unfair': 1813, 'winston': 1814, 'economically': 1815, 'dear': 1816, 'recover': 1817, 'check': 1818, 'globe': 1819, 'christians': 1820, 'warning': 1821, 'disorder': 1822, 'statesmanship': 1823, 'complaint': 1824, 'drop': 1825, 'confirm': 1826, 'citizenship': 1827, 'confine': 1828, 'assistance': 1829, 'howard': 1830, 'critic': 1831, 'dynamic': 1832, 'lecture': 1833, 'worthwhile': 1834, 'urgent': 1835, 'club': 1836, 'feature': 1837, 'contemplate': 1838, 'heat': 1839, 'box': 1840, 'poll': 1841, 'bournemouth': 1842, 'enforce': 1843, 'sink': 1844, 'function': 1845, 'perspective': 1846, 'grievance': 1847, 'fantastic': 1848, 'tape': 1849, 'headline': 1850, 'geoffrey': 1851, 'brexit': 1852, 'procedure': 1853, 'tend': 1854, 'deport': 1855, 'sovereignty': 1856, 'practically': 1857, 'electorate': 1858, 'interested': 1859, 'operate': 1860, 'diversity': 1861, 'hostile': 1862, 'membership': 1863, 'sale': 1864, 'attend': 1865, 'assist': 1866, 'witness': 1867, 'assurance': 1868, 'envy': 1869, 'celebrate': 1870, 'harold': 1871, 'wear': 1872, 'odd': 1873, 'overwhelming': 1874, 'eurozone': 1875, 'compromise': 1876, 'stimulate': 1877, 'attract': 1878, 'disadvantage': 1879, 'vested': 1880, 'comrade': 1881, 'familiar': 1882, 'obstacle': 1883, 'physical': 1884, 'september': 1885, 'decency': 1886, 'cheat': 1887, 'myth': 1888, 'emphasis': 1889, 'breach': 1890, 'prolong': 1891, 'station': 1892, 'consistently': 1893, 'osborne': 1894, 'alas': 1895, 'sheer': 1896, '90': 1897, 'poland': 1898, 'examination': 1899, 'schools': 1900, 'counter': 1901, 'ambitious': 1902, 'accident': 1903, 'fairly': 1904, 'outrage': 1905, 'economist': 1906, '15': 1907, 'altogether': 1908, 'optimism': 1909, 'policeman': 1910, 'controversial': 1911, 'computer': 1912, 'volunteer': 1913, 'burn': 1914, 'frontier': 1915, 'pattern': 1916, 'engine': 1917, 'harm': 1918, 'rhodesia': 1919, 'lock': 1920, 'successive': 1921, 'federal': 1922, 'iron': 1923, 'sphere': 1924, '70': 1925, 'chaos': 1926, 'ottawa': 1927, 'remark': 1928, 'indicate': 1929, 'punishment': 1930, 'prisoner': 1931, 'significant': 1932, 'surprise': 1933, 'actual': 1934, 'conscience': 1935, 'veto': 1936, 'competence': 1937, 'turkey': 1938, 'select': 1939, 'fundamentally': 1940, 'estimate': 1941, 'eat': 1942, 'lasting': 1943, 'horizon': 1944, 'combination': 1945, 'congratulate': 1946, 'competitor': 1947, 'disease': 1948, 'admire': 1949, 'unilateral': 1950, 'anger': 1951, 'route': 1952, 'raw': 1953, 'proof': 1954, 'widely': 1955, 'closure': 1956, 'generate': 1957, 'sunday': 1958, 'technique': 1959, 'disagree': 1960, 'expensive': 1961, 'shrink': 1962, 'acquire': 1963, 'repay': 1964, 'space': 1965, 'music': 1966, 'licence': 1967, 'daughter': 1968, 'invent': 1969, 'treasury': 1970, 'possession': 1971, 'macleod': 1972, 'badly': 1973, 'waiting': 1974, 'russians': 1975, 'bold': 1976, 'cameron': 1977, 'abolition': 1978, 'original': 1979, 'collapse': 1980, 'appoint': 1981, 'gaitskell': 1982, 'honestly': 1983, 'regime': 1984, 'status': 1985, 'foster': 1986, 'teenager': 1987, 'proclaim': 1988, 'valuable': 1989, 'quarrel': 1990, 'august': 1991, 'motive': 1992, 'essence': 1993, 'introduction': 1994, 'bail': 1995, 'endanger': 1996, 'york': 1997, 'desperate': 1998, 'bureaucratic': 1999, 'eighteen': 2000, 'straightforward': 2001, 'restrict': 2002, 'dole': 2003, 'reference': 2004, 'outcome': 2005, 'model': 2006, 'comprehensive': 2007, 'greater': 2008, 'concept': 2009, 'sincerely': 2010, 'mainly': 2011, 'agency': 2012, 'inevitably': 2013, 'petrol': 2014, 'unlike': 2015, 'retain': 2016, 'revolutionary': 2017, 'ashamed': 2018, 'desperately': 2019, 'embrace': 2020, 'apprenticeship': 2021, 'dog': 2022, 'reliance': 2023, 'era': 2024, 'selfish': 2025, 'elementary': 2026, 'carbon': 2027, 'evening': 2028, 'landlord': 2029, 'legislate': 2030, 'wipe': 2031, 'openly': 2032, 'wreck': 2033, 'access': 2034, 'conceal': 2035, 'arrogant': 2036, 'slum': 2037, 'possess': 2038, 'compassionate': 2039, 'harmony': 2040, 'extremely': 2041, 'beg': 2042, 'instrument': 2043, 'advise': 2044, 'till': 2045, 'uncertainty': 2046, 'expose': 2047, 'salary': 2048, 'cross': 2049, 'zealand': 2050, 'slight': 2051, 'illusion': 2052, 'opening': 2053, 'satisfactory': 2054, 'plenty': 2055, 'thrive': 2056, 'lower': 2057, 'widen': 2058, 'emotion': 2059, 'pour': 2060, 'duncan': 2061, 'convict': 2062, 'bed': 2063, 'refugee': 2064, 'peer': 2065, 'statistic': 2066, 'correct': 2067, 'hague': 2068, 'guard': 2069, 'purely': 2070, 'calamity': 2071, 'warm': 2072, 'name': 2073, 'lansdowne': 2074, 'collect': 2075, 'sincere': 2076, 'mend': 2077, 'series': 2078, 'comfortable': 2079, 'wheat': 2080, 'boat': 2081, 'contradiction': 2082, 'literally': 2083, 'knock': 2084, 'bridge': 2085, 'override': 2086, 'satisfied': 2087, 'echr': 2088, 'unions': 2089, 'preside': 2090, 'humility': 2091, 'strasbourg': 2092, 'bargain': 2093, 'holder': 2094, 'robert': 2095, 'plane': 2096, 'undertaking': 2097, 'bitter': 2098, 'combat': 2099, 'evident': 2100, 'prophecy': 2101, 'bread': 2102, 'file': 2103, 'entrust': 2104, 'tooth': 2105, 'excellence': 2106, 'scientist': 2107, 'fighting': 2108, 'hail': 2109, 'prejudice': 2110, 'occupation': 2111, 'literature': 2112, 'chemical': 2113, 'shipping': 2114, 'married': 2115, 'publicly': 2116, 'emotional': 2117, 'immigrant': 2118, 'macmillan': 2119, '11': 2120, 'giant': 2121, 'core': 2122, 'shortage': 2123, 'smile': 2124, 'greatness': 2125, 'absence': 2126, 'halt': 2127, 'distinguish': 2128, 'track': 2129, 'privileged': 2130, 'jury': 2131, 'outward': 2132, 'beacon': 2133, 'electoral': 2134, 'voting': 2135, 'incredible': 2136, 'attractive': 2137, 'conscious': 2138, 'reaction': 2139, 'optimistic': 2140, 'monetary': 2141, 'electricity': 2142, 'id': 2143, 'justification': 2144, 'happily': 2145, 'turning': 2146, 'differ': 2147, 'entire': 2148, 'slavery': 2149, 'fifth': 2150, 'relieve': 2151, 'journey': 2152, 'illustration': 2153, 'bureaucrat': 2154, 'realistic': 2155, 'children': 2156, 'kong': 2157, 'hong': 2158, 'dedicate': 2159, 'devise': 2160, 'successfully': 2161, 'advanced': 2162, 'reveal': 2163, 'fate': 2164, 'height': 2165, 'douglas': 2166, 'facility': 2167, 'saddam': 2168, 'capable': 2169, 'shake': 2170, 'register': 2171, 'passionate': 2172, 'wake': 2173, 'distance': 2174, 'obey': 2175, 'immensely': 2176, 'intervene': 2177, 'impression': 2178, 'regular': 2179, 'noble': 2180, 'logic': 2181, 'frighten': 2182, 'weather': 2183, 'sole': 2184, 'intensify': 2185, 'application': 2186, 'exploit': 2187, 'document': 2188, '16': 2189, 'funding': 2190, 'heath': 2191, 'foreigner': 2192, 'foresee': 2193, 'recruit': 2194, 'friday': 2195, 'lawyer': 2196, 'birth': 2197, 'clamour': 2198, 'suggestion': 2199, 'boundary': 2200, 'outline': 2201, 'belgium': 2202, 'islamist': 2203, 'characteristic': 2204, 'suspect': 2205, 'husband': 2206, 'mrs.': 2207, 'dictatorship': 2208, 'shout': 2209, 'tuesday': 2210, 'attain': 2211, 'strain': 2212, 'productive': 2213, 'cash': 2214, 'pursuit': 2215, 'refrain': 2216, 'surprising': 2217, 'hang': 2218, 'soil': 2219, 'jeremy': 2220, '80': 2221, 'frank': 2222, 'uncertain': 2223, 'satisfaction': 2224, 'medium': 2225, 'delivery': 2226, 'protective': 2227, 'academy': 2228, 'cope': 2229, '1,000': 2230, 'hamper': 2231, 'sugar': 2232, 'aggression': 2233, 'portion': 2234, 'deputy': 2235, 'redmond': 2236, 'sky': 2237, 'grand': 2238, 'anymore': 2239, 'hardworke': 2240, 'jim': 2241, 'compensation': 2242, 'dramatic': 2243, 'capitalism': 2244, 'prudent': 2245, 'rush': 2246, 'actively': 2247, 'mental': 2248, 'row': 2249, '21st': 2250, 'making': 2251, 'career': 2252, 'totally': 2253, 'successor': 2254, 'riot': 2255, 'engineering': 2256, 'bust': 2257, 'spot': 2258, 'ignorance': 2259, 'symptom': 2260, 'presence': 2261, 'precise': 2262, 'negative': 2263, 'stretch': 2264, 'exception': 2265, 'revive': 2266, 'restrain': 2267, 'dedication': 2268, 'inheritance': 2269, 'realm': 2270, 'squeeze': 2271, 'signal': 2272, 'survey': 2273, 'frustration': 2274, 'thoroughly': 2275, 'image': 2276, 'hide': 2277, 'tremendous': 2278, 'december': 2279, 'buyer': 2280, 'disappointment': 2281, 'fabric': 2282, 'widow': 2283, 'film': 2284, 'morally': 2285, 'parish': 2286, 'cheque': 2287, 'transfer': 2288, 'representation': 2289, 'repeal': 2290, 'marvellous': 2291, 'verdict': 2292, 'oliver': 2293, 'remote': 2294, 'village': 2295, 'tenth': 2296, 'applaud': 2297, 'patriotic': 2298, 'punish': 2299, 'earnestly': 2300, 'unfairness': 2301, 'typical': 2302, 'version': 2303, 'resign': 2304, 'judiciary': 2305, 'uniform': 2306, 'spell': 2307, 'revival': 2308, '13': 2309, 'grandchild': 2310, 'municipality': 2311, 'materialism': 2312, 'pre': 2313, 'sad': 2314, 'canal': 2315, 'guilty': 2316, 'january': 2317, 'offence': 2318, 'dawn': 2319, 'thomas': 2320, 'heal': 2321, 'solid': 2322, 'appropriate': 2323, 'capitalist': 2324, 'trick': 2325, 'balanced': 2326, 'prosper': 2327, 'elite': 2328, 'republic': 2329, 'mighty': 2330, 'vain': 2331, 'governor': 2332, 'maudling': 2333, 'forecast': 2334, 'overwhelmingly': 2335, 'misunderstanding': 2336, 'doorstep': 2337, 'dependent': 2338, 'armament': 2339, 'disappear': 2340, 'approval': 2341, '100,000': 2342, 'gcse': 2343, 'topic': 2344, 'humanitarian': 2345, 'intolerable': 2346, 'logical': 2347, 'healthcare': 2348, 'opt': 2349, 'legislative': 2350, 'regardless': 2351, 'statute': 2352, 'proliferation': 2353, 'climb': 2354, 'reflection': 2355, 'amount': 2356, 'contact': 2357, 'nice': 2358, 'bully': 2359, 'depth': 2360, 'frame': 2361, 'ken': 2362, 'hot': 2363, 'arrange': 2364, 'consciousness': 2365, 'banking': 2366, 'tragic': 2367, 'shortly': 2368, 'october': 2369, 'warfare': 2370, 'requirement': 2371, 'safeguarding': 2372, 'urban': 2373, 'christmas': 2374, 'lend': 2375, '2,000': 2376, 'tendency': 2377, 'ten': 2378, 'widespread': 2379, 'contest': 2380, 'participation': 2381, 'agitator': 2382, 'militant': 2383, 'substitute': 2384, 'cruel': 2385, 'obsess': 2386, 'safely': 2387, 'penalise': 2388, 'fashioned': 2389, 'farm': 2390, 'shelter': 2391, 'pioneer': 2392, 'definite': 2393, 'qualification': 2394, 'canadian': 2395, 'intellectual': 2396, 'comparison': 2397, 'pray': 2398, 'pleased': 2399, 'tower': 2400, 'dominion': 2401, 'split': 2402, 'somebody': 2403, 'modify': 2404, 'forefront': 2405, 'strict': 2406, 'emphasise': 2407, 'somewhat': 2408, 'clergy': 2409, 'silence': 2410, 'phone': 2411, 'bury': 2412, 'congress': 2413, 'setback': 2414, 'continuity': 2415, 'discontent': 2416, 'earnest': 2417, 'egypt': 2418, 'joseph': 2419, 'reconciliation': 2420, 'affordable': 2421, 'embark': 2422, 'crack': 2423, 'surgery': 2424, 'worldwide': 2425, 'ward': 2426, 'consume': 2427, 'marxist': 2428, 'genius': 2429, 'november': 2430, 'medical': 2431, 'nightmare': 2432, 'maximum': 2433, 'elector': 2434, 'trend': 2435, 'technological': 2436, 'gladly': 2437, 'dwell': 2438, 'dirty': 2439, 'honourable': 2440, 'infrastructure': 2441, '2010': 2442, 'crowd': 2443, 'exaggerate': 2444, 'flood': 2445, 'consultation': 2446, 'clarity': 2447, 'testing': 2448, 'third': 2449, 'breadth': 2450, 'crown': 2451, 'imposition': 2452, 'forgive': 2453, 'democrat': 2454, 'underestimate': 2455, 'precedent': 2456, 'asylum': 2457, 'fashionable': 2458, 'broaden': 2459, 'frightened': 2460, 'undoubtedly': 2461, 'banner': 2462, 'farming': 2463, 'heaven': 2464, 'saturday': 2465, 'conclude': 2466, 'acceptance': 2467, 'g20': 2468, 'sufficiently': 2469, 'suspicion': 2470, 'insecurity': 2471, 'endorse': 2472, 'drain': 2473, 'channel': 2474, 'unionism': 2475, 'livelihood': 2476, 'identify': 2477, 'pessimism': 2478, 'hardship': 2479, 'boost': 2480, 'cruelty': 2481, 'amazing': 2482, 'clarke': 2483, 'wound': 2484, '1980': 2485, 'joke': 2486, 'mayor': 2487, 'cling': 2488, 'excessive': 2489, 'rock': 2490, 'kick': 2491, 'attach': 2492, 'context': 2493, 'maybe': 2494, 'dad': 2495, 'happiness': 2496, 'everyday': 2497, 'queue': 2498, 'aftermath': 2499, 'fraud': 2500, 'overall': 2501, 'wave': 2502, 'wind': 2503, 'corporate': 2504, 'disposal': 2505, 'unprecedented': 2506, 'football': 2507, 'andrew': 2508, 'shine': 2509, 'accommodation': 2510, 'rail': 2511, 'persist': 2512, 'weary': 2513, 'stamp': 2514, 'countless': 2515, 'calculate': 2516, 'fisherman': 2517, 'gravity': 2518, 'injury': 2519, 'jack': 2520, 'deter': 2521, 'frequently': 2522, 'echo': 2523, 'wicked': 2524, 'devotion': 2525, 'administrative': 2526, 'survival': 2527, 'request': 2528, 'evolution': 2529, 'critical': 2530, 'gay': 2531, 'devalue': 2532, 'compel': 2533, 'square': 2534, 'yield': 2535, 'derive': 2536, 'baby': 2537, 'abstract': 2538, 'generosity': 2539, 'centralised': 2540, 'foe': 2541, 'pile': 2542, 'tune': 2543, 'innocent': 2544, 'constituent': 2545, 'hero': 2546, 'shaftesbury': 2547, 'heads': 2548, 'thread': 2549, 'seed': 2550, '14': 2551, 'nigel': 2552, 'serviceman': 2553, 'breed': 2554, 'shut': 2555, 'implement': 2556, 'affection': 2557, 'creator': 2558, 'factor': 2559, 'millennium': 2560, 'privacy': 2561, 'addiction': 2562, 'caution': 2563, 'harry': 2564, 'utterance': 2565, 'custom': 2566, 'vow': 2567, 'resort': 2568, 'tension': 2569, 'unfortunately': 2570, 'conceive': 2571, 'author': 2572, 'malaysia': 2573, 'indefinitely': 2574, 'roof': 2575, 'dawes': 2576, 'generally': 2577, 'academic': 2578, 'rational': 2579, 'scope': 2580, 'belfast': 2581, 'inflict': 2582, 'going': 2583, 'communists': 2584, 'assent': 2585, 'assessment': 2586, '21': 2587, 'prevention': 2588, 'keen': 2589, 'disguise': 2590, 'soft': 2591, 'continuous': 2592, 'learning': 2593, 'selective': 2594, 'stone': 2595, 'tea': 2596, 'deliberate': 2597, '1906': 2598, 'trades': 2599, 'acceptable': 2600, 'floor': 2601, 'phenomenon': 2602, 'destructive': 2603, '500': 2604, 'display': 2605, 'indulge': 2606, 'liberate': 2607, 'pact': 2608, 'internal': 2609, 'consensus': 2610, 'undo': 2611, 'fee': 2612, '1997': 2613, 'pointless': 2614, 'pace': 2615, 'tool': 2616, 'swing': 2617, 'sympathise': 2618, 'exceed': 2619, 'confusion': 2620, 'colour': 2621, 'accordance': 2622, 'pen': 2623, 'rescue': 2624, 'olympics': 2625, 'usual': 2626, 'full': 2627, 'paris': 2628, 'thrift': 2629, 'pin': 2630, 'keith': 2631, 'stir': 2632, 'nationhood': 2633, 'confidently': 2634, 'dull': 2635, 'civic': 2636, 'animate': 2637, 'appreciate': 2638, 'cardinal': 2639, 'irrespective': 2640, '19th': 2641, 'minded': 2642, 'disturb': 2643, 'blairworld': 2644, 'boris': 2645, 'detailed': 2646, 'mum': 2647, 'foremost': 2648, 'wealthy': 2649, 'guardian': 2650, 'label': 2651, 'exact': 2652, 'bbc': 2653, 'draft': 2654, 'misrepresentation': 2655, 'shareholder': 2656, 'stride': 2657, 'rebalance': 2658, 'collection': 2659, 'disappoint': 2660, 'packet': 2661, 'dialogue': 2662, 'adviser': 2663, 'skilled': 2664, 'calculation': 2665, 'text': 2666, 'excess': 2667, 'dozen': 2668, 'induce': 2669, 'christ': 2670, 'leisure': 2671, 'slave': 2672, 'redundancy': 2673, 'constant': 2674, 'torture': 2675, 'rape': 2676, 'childhood': 2677, 'exhaust': 2678, 'external': 2679, 'medicine': 2680, 'naval': 2681, '250': 2682, 'finger': 2683, 'eliminate': 2684, 'competent': 2685, 'cynical': 2686, 'relax': 2687, 'cultural': 2688, 'magnificent': 2689, 'faire': 2690, 'attribute': 2691, 'laissez': 2692, 'admiral': 2693, 'usually': 2694, 'dictate': 2695, 'gift': 2696, 'formal': 2697, 'curious': 2698, 'servicemen': 2699, 'breathe': 2700, 'temper': 2701, 'compulsory': 2702, 'passage': 2703, 'modest': 2704}\n"
     ]
    }
   ],
   "source": [
    "## maybe you want a list of all the words in your model then?\n",
    "## this is how you do that\n",
    "\n",
    "print(model_tory.key_to_index);"
   ]
  },
  {
   "cell_type": "markdown",
   "metadata": {
    "id": "yI2AzWKneBEX"
   },
   "source": [
    "Creating a frequency list from the words in the Conservative dataset."
   ]
  },
  {
   "cell_type": "code",
   "execution_count": 43,
   "metadata": {
    "colab": {
     "base_uri": "https://localhost:8080/",
     "height": 424
    },
    "executionInfo": {
     "elapsed": 282,
     "status": "ok",
     "timestamp": 1647093626150,
     "user": {
      "displayName": "J. Bakema",
      "photoUrl": "https://lh3.googleusercontent.com/a/default-user=s64",
      "userId": "17259339113560054463"
     },
     "user_tz": -60
    },
    "id": "HO6IWT3EPbuO",
    "outputId": "a3ad66ad-ff8d-40ae-c8da-f8d9058d2a8a"
   },
   "outputs": [
    {
     "ename": "AttributeError",
     "evalue": "'int' object has no attribute 'count'",
     "output_type": "error",
     "traceback": [
      "\u001b[1;31m---------------------------------------------------------------------------\u001b[0m",
      "\u001b[1;31mAttributeError\u001b[0m                            Traceback (most recent call last)",
      "\u001b[1;32m~\\AppData\\Local\\Temp\\ipykernel_23068\\54428938.py\u001b[0m in \u001b[0;36m<module>\u001b[1;34m\u001b[0m\n\u001b[0;32m      7\u001b[0m \u001b[1;31m## iterate over every word in the vocab and get its frequency and save it to records\u001b[0m\u001b[1;33m\u001b[0m\u001b[1;33m\u001b[0m\u001b[0m\n\u001b[0;32m      8\u001b[0m \u001b[1;32mfor\u001b[0m \u001b[0mword\u001b[0m \u001b[1;32min\u001b[0m \u001b[0mmodel_tory\u001b[0m\u001b[1;33m.\u001b[0m\u001b[0mkey_to_index\u001b[0m\u001b[1;33m:\u001b[0m\u001b[1;33m\u001b[0m\u001b[1;33m\u001b[0m\u001b[0m\n\u001b[1;32m----> 9\u001b[1;33m   \u001b[0mrecords\u001b[0m\u001b[1;33m.\u001b[0m\u001b[0mappend\u001b[0m\u001b[1;33m(\u001b[0m\u001b[1;33m(\u001b[0m\u001b[0mword\u001b[0m\u001b[1;33m,\u001b[0m \u001b[0mmodel_tory\u001b[0m\u001b[1;33m.\u001b[0m\u001b[0mkey_to_index\u001b[0m\u001b[1;33m[\u001b[0m\u001b[0mword\u001b[0m\u001b[1;33m]\u001b[0m\u001b[1;33m.\u001b[0m\u001b[0mcount\u001b[0m\u001b[1;33m(\u001b[0m\u001b[1;33m)\u001b[0m\u001b[1;33m)\u001b[0m\u001b[1;33m)\u001b[0m\u001b[1;33m\u001b[0m\u001b[1;33m\u001b[0m\u001b[0m\n\u001b[0m\u001b[0;32m     10\u001b[0m \u001b[1;33m\u001b[0m\u001b[0m\n\u001b[0;32m     11\u001b[0m \u001b[1;31m## make a table with some pandas magic\u001b[0m\u001b[1;33m\u001b[0m\u001b[1;33m\u001b[0m\u001b[0m\n",
      "\u001b[1;31mAttributeError\u001b[0m: 'int' object has no attribute 'count'"
     ]
    }
   ],
   "source": [
    "## that's not super useful in itself\n",
    "## let's make a table of our vocabulary with frequency\n",
    "\n",
    "## set up a list to store our words + frequencies\n",
    "records = list()\n",
    "\n",
    "## iterate over every word in the vocab and get its frequency and save it to records\n",
    "for word in model_tory.key_to_index:\n",
    "  records.append((word, model_tory.key_to_index[word].count))\n",
    "\n",
    "## make a table with some pandas magic\n",
    "model_tory_vocab_df = pd.DataFrame.from_records(records, columns = [\"lemma\",\"frequency\"])\n",
    "model_tory_vocab_df.sort_values(\"frequency\", ascending=False)"
   ]
  },
  {
   "cell_type": "markdown",
   "metadata": {
    "id": "Ih2D14MdkITb"
   },
   "source": [
    "Here I added the part-of-speech for each word.  \n",
    "Not sure if something interesting can be done with it.  \n",
    "Can also be removed"
   ]
  },
  {
   "cell_type": "code",
   "execution_count": null,
   "metadata": {
    "id": "ReLJyqJ38JPL"
   },
   "outputs": [],
   "source": [
    "def str_to_list(word):\n",
    "  lst = []\n",
    "  lst.append(word)\n",
    "  return lst"
   ]
  },
  {
   "cell_type": "code",
   "execution_count": null,
   "metadata": {
    "id": "YldOm9rp9JAe"
   },
   "outputs": [],
   "source": [
    "def get_pos(list_with_tuple):\n",
    "  return [str(tup[1]) for tup in list_with_tuple]"
   ]
  },
  {
   "cell_type": "code",
   "execution_count": null,
   "metadata": {
    "id": "BT39sdy_4A-h"
   },
   "outputs": [],
   "source": [
    "model_tory_vocab_df['POS'] = model_tory_vocab_df['lemma'].apply(str_to_list).apply(pos_tag)\n",
    "model_tory_vocab_df['POS'] = model_tory_vocab_df['POS'].apply(get_pos)\n",
    "model_tory_vocab_df['POS'] = model_tory_vocab_df['POS'].apply(\"\".join)"
   ]
  },
  {
   "cell_type": "code",
   "execution_count": null,
   "metadata": {
    "colab": {
     "base_uri": "https://localhost:8080/",
     "height": 424
    },
    "executionInfo": {
     "elapsed": 248,
     "status": "ok",
     "timestamp": 1647093694081,
     "user": {
      "displayName": "J. Bakema",
      "photoUrl": "https://lh3.googleusercontent.com/a/default-user=s64",
      "userId": "17259339113560054463"
     },
     "user_tz": -60
    },
    "id": "NkIGEVpi9tJB",
    "outputId": "4e3bdfd2-5204-4cde-b045-a881da7447b9"
   },
   "outputs": [
    {
     "data": {
      "text/html": [
       "\n",
       "  <div id=\"df-3763d389-fc06-473c-af48-3f6a78630831\">\n",
       "    <div class=\"colab-df-container\">\n",
       "      <div>\n",
       "<style scoped>\n",
       "    .dataframe tbody tr th:only-of-type {\n",
       "        vertical-align: middle;\n",
       "    }\n",
       "\n",
       "    .dataframe tbody tr th {\n",
       "        vertical-align: top;\n",
       "    }\n",
       "\n",
       "    .dataframe thead th {\n",
       "        text-align: right;\n",
       "    }\n",
       "</style>\n",
       "<table border=\"1\" class=\"dataframe\">\n",
       "  <thead>\n",
       "    <tr style=\"text-align: right;\">\n",
       "      <th></th>\n",
       "      <th>lemma</th>\n",
       "      <th>frequency</th>\n",
       "      <th>POS</th>\n",
       "    </tr>\n",
       "  </thead>\n",
       "  <tbody>\n",
       "    <tr>\n",
       "      <th>0</th>\n",
       "      <td>thank</td>\n",
       "      <td>175</td>\n",
       "      <td>NN</td>\n",
       "    </tr>\n",
       "    <tr>\n",
       "      <th>1</th>\n",
       "      <td>warm</td>\n",
       "      <td>14</td>\n",
       "      <td>NN</td>\n",
       "    </tr>\n",
       "    <tr>\n",
       "      <th>2</th>\n",
       "      <td>welcome</td>\n",
       "      <td>99</td>\n",
       "      <td>NN</td>\n",
       "    </tr>\n",
       "    <tr>\n",
       "      <th>3</th>\n",
       "      <td>excuse</td>\n",
       "      <td>33</td>\n",
       "      <td>NN</td>\n",
       "    </tr>\n",
       "    <tr>\n",
       "      <th>4</th>\n",
       "      <td>speech</td>\n",
       "      <td>241</td>\n",
       "      <td>NN</td>\n",
       "    </tr>\n",
       "    <tr>\n",
       "      <th>...</th>\n",
       "      <td>...</td>\n",
       "      <td>...</td>\n",
       "      <td>...</td>\n",
       "    </tr>\n",
       "    <tr>\n",
       "      <th>2709</th>\n",
       "      <td>calamity</td>\n",
       "      <td>14</td>\n",
       "      <td>NN</td>\n",
       "    </tr>\n",
       "    <tr>\n",
       "      <th>2710</th>\n",
       "      <td>lansdowne</td>\n",
       "      <td>14</td>\n",
       "      <td>NN</td>\n",
       "    </tr>\n",
       "    <tr>\n",
       "      <th>2711</th>\n",
       "      <td>nonconformist</td>\n",
       "      <td>14</td>\n",
       "      <td>NN</td>\n",
       "    </tr>\n",
       "    <tr>\n",
       "      <th>2712</th>\n",
       "      <td>cobden</td>\n",
       "      <td>21</td>\n",
       "      <td>NN</td>\n",
       "    </tr>\n",
       "    <tr>\n",
       "      <th>2715</th>\n",
       "      <td>municipality</td>\n",
       "      <td>12</td>\n",
       "      <td>NN</td>\n",
       "    </tr>\n",
       "  </tbody>\n",
       "</table>\n",
       "<p>2084 rows × 3 columns</p>\n",
       "</div>\n",
       "      <button class=\"colab-df-convert\" onclick=\"convertToInteractive('df-3763d389-fc06-473c-af48-3f6a78630831')\"\n",
       "              title=\"Convert this dataframe to an interactive table.\"\n",
       "              style=\"display:none;\">\n",
       "        \n",
       "  <svg xmlns=\"http://www.w3.org/2000/svg\" height=\"24px\"viewBox=\"0 0 24 24\"\n",
       "       width=\"24px\">\n",
       "    <path d=\"M0 0h24v24H0V0z\" fill=\"none\"/>\n",
       "    <path d=\"M18.56 5.44l.94 2.06.94-2.06 2.06-.94-2.06-.94-.94-2.06-.94 2.06-2.06.94zm-11 1L8.5 8.5l.94-2.06 2.06-.94-2.06-.94L8.5 2.5l-.94 2.06-2.06.94zm10 10l.94 2.06.94-2.06 2.06-.94-2.06-.94-.94-2.06-.94 2.06-2.06.94z\"/><path d=\"M17.41 7.96l-1.37-1.37c-.4-.4-.92-.59-1.43-.59-.52 0-1.04.2-1.43.59L10.3 9.45l-7.72 7.72c-.78.78-.78 2.05 0 2.83L4 21.41c.39.39.9.59 1.41.59.51 0 1.02-.2 1.41-.59l7.78-7.78 2.81-2.81c.8-.78.8-2.07 0-2.86zM5.41 20L4 18.59l7.72-7.72 1.47 1.35L5.41 20z\"/>\n",
       "  </svg>\n",
       "      </button>\n",
       "      \n",
       "  <style>\n",
       "    .colab-df-container {\n",
       "      display:flex;\n",
       "      flex-wrap:wrap;\n",
       "      gap: 12px;\n",
       "    }\n",
       "\n",
       "    .colab-df-convert {\n",
       "      background-color: #E8F0FE;\n",
       "      border: none;\n",
       "      border-radius: 50%;\n",
       "      cursor: pointer;\n",
       "      display: none;\n",
       "      fill: #1967D2;\n",
       "      height: 32px;\n",
       "      padding: 0 0 0 0;\n",
       "      width: 32px;\n",
       "    }\n",
       "\n",
       "    .colab-df-convert:hover {\n",
       "      background-color: #E2EBFA;\n",
       "      box-shadow: 0px 1px 2px rgba(60, 64, 67, 0.3), 0px 1px 3px 1px rgba(60, 64, 67, 0.15);\n",
       "      fill: #174EA6;\n",
       "    }\n",
       "\n",
       "    [theme=dark] .colab-df-convert {\n",
       "      background-color: #3B4455;\n",
       "      fill: #D2E3FC;\n",
       "    }\n",
       "\n",
       "    [theme=dark] .colab-df-convert:hover {\n",
       "      background-color: #434B5C;\n",
       "      box-shadow: 0px 1px 3px 1px rgba(0, 0, 0, 0.15);\n",
       "      filter: drop-shadow(0px 1px 2px rgba(0, 0, 0, 0.3));\n",
       "      fill: #FFFFFF;\n",
       "    }\n",
       "  </style>\n",
       "\n",
       "      <script>\n",
       "        const buttonEl =\n",
       "          document.querySelector('#df-3763d389-fc06-473c-af48-3f6a78630831 button.colab-df-convert');\n",
       "        buttonEl.style.display =\n",
       "          google.colab.kernel.accessAllowed ? 'block' : 'none';\n",
       "\n",
       "        async function convertToInteractive(key) {\n",
       "          const element = document.querySelector('#df-3763d389-fc06-473c-af48-3f6a78630831');\n",
       "          const dataTable =\n",
       "            await google.colab.kernel.invokeFunction('convertToInteractive',\n",
       "                                                     [key], {});\n",
       "          if (!dataTable) return;\n",
       "\n",
       "          const docLinkHtml = 'Like what you see? Visit the ' +\n",
       "            '<a target=\"_blank\" href=https://colab.research.google.com/notebooks/data_table.ipynb>data table notebook</a>'\n",
       "            + ' to learn more about interactive tables.';\n",
       "          element.innerHTML = '';\n",
       "          dataTable['output_type'] = 'display_data';\n",
       "          await google.colab.output.renderOutput(dataTable, element);\n",
       "          const docLink = document.createElement('div');\n",
       "          docLink.innerHTML = docLinkHtml;\n",
       "          element.appendChild(docLink);\n",
       "        }\n",
       "      </script>\n",
       "    </div>\n",
       "  </div>\n",
       "  "
      ],
      "text/plain": [
       "              lemma  frequency POS\n",
       "0             thank        175  NN\n",
       "1              warm         14  NN\n",
       "2           welcome         99  NN\n",
       "3            excuse         33  NN\n",
       "4            speech        241  NN\n",
       "...             ...        ...  ..\n",
       "2709       calamity         14  NN\n",
       "2710      lansdowne         14  NN\n",
       "2711  nonconformist         14  NN\n",
       "2712         cobden         21  NN\n",
       "2715   municipality         12  NN\n",
       "\n",
       "[2084 rows x 3 columns]"
      ]
     },
     "execution_count": 21,
     "metadata": {},
     "output_type": "execute_result"
    }
   ],
   "source": [
    "model_tory_vocab_df.loc[model_tory_vocab_df['POS'] == 'NN']"
   ]
  },
  {
   "cell_type": "code",
   "execution_count": null,
   "metadata": {
    "colab": {
     "base_uri": "https://localhost:8080/"
    },
    "executionInfo": {
     "elapsed": 313,
     "status": "ok",
     "timestamp": 1647093697832,
     "user": {
      "displayName": "J. Bakema",
      "photoUrl": "https://lh3.googleusercontent.com/a/default-user=s64",
      "userId": "17259339113560054463"
     },
     "user_tz": -60
    },
    "id": "baiJTPQfHb4w",
    "outputId": "ae070e5b-32b0-4559-d3dc-a67f14e7df14"
   },
   "outputs": [
    {
     "data": {
      "text/plain": [
       "2716"
      ]
     },
     "execution_count": 22,
     "metadata": {},
     "output_type": "execute_result"
    }
   ],
   "source": [
    "len(model_tory_vocab_df)"
   ]
  },
  {
   "cell_type": "markdown",
   "metadata": {
    "id": "yEi0NYcAkUrl"
   },
   "source": [
    "'Normal' code resumes again"
   ]
  },
  {
   "cell_type": "code",
   "execution_count": null,
   "metadata": {
    "id": "PLu6kTLJQVhd"
   },
   "outputs": [],
   "source": [
    "## NAIVE 2D Projection\n",
    "## first I set up a function to do the plotting.\n",
    "\n",
    "def naive_projection(x_axis, y_axis, test_words, model, plot_size=8):\n",
    "\n",
    "\n",
    "  ## check if you have the right input data\n",
    "  if len(x_axis) != 2:\n",
    "    print(\"You must only have two antonyms in your x-axis\")\n",
    "  elif len(y_axis) !=2:\n",
    "    print(\"You must only have two antonyms in your y-axis\")\n",
    "  else:\n",
    "\n",
    "    ## lets do the projection\n",
    "\n",
    "    x = list() # store x values for each test word\n",
    "    y = list()\n",
    "\n",
    "    ## now, we calculate the x and y coordinates for each of our test words\n",
    "    for word in test_words:\n",
    "      x_val = model.distance(x_axis[0], word) - model.distance(x_axis[1], word) # x_axis[0] is the first word of your antonym pair, x_axis[1] is the second word\n",
    "      y_val = model.distance(y_axis[0], word) - model.distance(y_axis[1], word) # same thing, 0,1 here to select your antonyms\n",
    "      x.append(x_val) # save x/y in our lists above\n",
    "      y.append(y_val)\n",
    "    \n",
    "    ## now we plot the x/y values we just calculated\n",
    "\n",
    "    fig, ax = plt.subplots(figsize=(plot_size,plot_size))\n",
    "\n",
    "    for i in range(len(x)):\n",
    "      ax.scatter(x[i], y[i])\n",
    "      ax.annotate(test_words[i], (x[i], y[i]))\n",
    "    \n",
    "    xlab = x_axis[0] + \" --- \" + x_axis[1]\n",
    "    ylab = y_axis[0] + \" --- \" + y_axis[1]\n",
    "    plt.xlabel(xlab)\n",
    "    plt.ylabel(ylab)\n",
    "\n",
    "    plt.show()"
   ]
  },
  {
   "cell_type": "markdown",
   "metadata": {
    "id": "yHMBVJgDfvZJ"
   },
   "source": [
    "Plotting the naive projection with `socialism` & `capitalism` on the x-axis  and `rich` & `poor` on the y-axis."
   ]
  },
  {
   "cell_type": "code",
   "execution_count": null,
   "metadata": {
    "colab": {
     "base_uri": "https://localhost:8080/",
     "height": 497
    },
    "executionInfo": {
     "elapsed": 443,
     "status": "ok",
     "timestamp": 1647093724723,
     "user": {
      "displayName": "J. Bakema",
      "photoUrl": "https://lh3.googleusercontent.com/a/default-user=s64",
      "userId": "17259339113560054463"
     },
     "user_tz": -60
    },
    "id": "K1CwrFOEP5F8",
    "outputId": "24a367b7-fc26-4cc3-ed5d-855ce1ce4c12"
   },
   "outputs": [
    {
     "data": {
      "image/png": "[encoded data removed]",
      "text/plain": [
       "<Figure size 576x576 with 1 Axes>"
      ]
     },
     "metadata": {
      "needs_background": "light"
     },
     "output_type": "display_data"
    }
   ],
   "source": [
    "\n",
    "x_axis = [\"socialism\",\"capitalism\"]\n",
    "y_axis = [\"rich\",\"poor\"]\n",
    "test_words = [\"labour\",\"conservative\", \"liberal\"]\n",
    "\n",
    "naive_projection(x_axis, y_axis, test_words, model_tory)"
   ]
  },
  {
   "cell_type": "code",
   "execution_count": null,
   "metadata": {
    "id": "ZNuyX_VzRX9_"
   },
   "outputs": [],
   "source": [
    "##Creating an advanced projection\n",
    "\n",
    "def advanced_projection(x_dimensions, y_dimensions, test_words, model, plot_size=6, xlab=\"label\", ylab = \"label\"):\n",
    "  x = list()\n",
    "  y = list()\n",
    "\n",
    "  ## measure each word against our composite axes, eg. \"engineer\"\n",
    "  for word in test_words:\n",
    "\n",
    "    ## set up some lists to hold our calculations\n",
    "    x_vals = list()\n",
    "    y_vals = list()\n",
    "\n",
    "    ## this is a loop that calculates the x values for each individual dimension, eg man/woman, he/she\n",
    "    for dim in x_dimensions:\n",
    "      xval = model.distance(dim[0], word) - model.distance(dim[1], word)\n",
    "      x_vals.append(xval)\n",
    "    ## repeat for y values\n",
    "    for dim in y_dimensions:\n",
    "      yval = model.distance(dim[0], word) - model.distance(dim[1], word)\n",
    "      y_vals.append(yval)\n",
    "\n",
    "    ## ok now we need to take the average of all the x_vals and y_vals we collected for this word\n",
    "    xavg = statistics.mean(x_vals)\n",
    "    yavg = statistics.mean(y_vals)\n",
    "\n",
    "    ## now lets save this to our x and y lists that we set up above (outside the for word in test_words loop) so that we can plot the word\n",
    "    x.append(xavg)\n",
    "    y.append(yavg)\n",
    "  \n",
    "  ## OK time to plot!\n",
    "  fig, ax = plt.subplots(figsize=(plot_size,plot_size))\n",
    "\n",
    "  for i in range(len(x)):\n",
    "    ax.scatter(x[i], y[i])\n",
    "    ax.annotate(test_words[i], (x[i], y[i]))\n",
    "\n",
    "  plt.xlabel(xlab)\n",
    "  plt.ylabel(ylab)\n",
    "\n",
    "  plt.show()\n"
   ]
  },
  {
   "cell_type": "markdown",
   "metadata": {
    "id": "Uyp2hVD8gWFo"
   },
   "source": [
    "Here, we plot the axes with more than just one pair of antonyms."
   ]
  },
  {
   "cell_type": "code",
   "execution_count": null,
   "metadata": {
    "colab": {
     "base_uri": "https://localhost:8080/",
     "height": 497
    },
    "executionInfo": {
     "elapsed": 309,
     "status": "ok",
     "timestamp": 1647093758559,
     "user": {
      "displayName": "J. Bakema",
      "photoUrl": "https://lh3.googleusercontent.com/a/default-user=s64",
      "userId": "17259339113560054463"
     },
     "user_tz": -60
    },
    "id": "BUjyvzkUQJ8w",
    "outputId": "b462ad61-eff4-47d1-bd27-6cb75df1c517"
   },
   "outputs": [
    {
     "data": {
      "image/png": "[encoded data removed]",
      "text/plain": [
       "<Figure size 576x576 with 1 Axes>"
      ]
     },
     "metadata": {
      "needs_background": "light"
     },
     "output_type": "display_data"
    }
   ],
   "source": [
    "x_dimensions = [\n",
    "          [\"conservative\",\"progressive\"],\n",
    "          [\"capitalist\",\"socialist\"],\n",
    "          [\"right\",\"left\"],\n",
    "          \n",
    "]\n",
    "\n",
    "## remember -- check that these words actually exist in your vocab table -- a KeyError likely indicates one word or another is missing.\n",
    "\n",
    "y_dimensions = [\n",
    "                [\"good\",\"bad\"],\n",
    "                [\"fair\",\"unfair\"],\n",
    "                [\"right\", \"wrong\"],\n",
    "                [\"justice\", \"injustice\"]\n",
    "]\n",
    "\n",
    "test_words = [\"christian\",\"muslim\",\"white\",\"soviet\", \"black\",\"european\", \"immigrant\",\"refugee\",\"american\",\"irish\",\"french\",\"german\",\"russian\"]\n",
    "\n",
    "## scroll to the previous sections if you need a reminder on how to use the function\n",
    "advanced_projection(\n",
    "    x_dimensions,\n",
    "    y_dimensions,\n",
    "    test_words,\n",
    "    model_tory,\n",
    "    plot_size=8,\n",
    "    xlab = \"right -- left\",\n",
    "    ylab = \"moral -- immoral\"\n",
    ")"
   ]
  },
  {
   "cell_type": "code",
   "execution_count": null,
   "metadata": {
    "colab": {
     "base_uri": "https://localhost:8080/",
     "height": 497
    },
    "executionInfo": {
     "elapsed": 390,
     "status": "ok",
     "timestamp": 1647093765570,
     "user": {
      "displayName": "J. Bakema",
      "photoUrl": "https://lh3.googleusercontent.com/a/default-user=s64",
      "userId": "17259339113560054463"
     },
     "user_tz": -60
    },
    "id": "n1i-JpRtao08",
    "outputId": "52d66d50-05bb-40f5-ee4a-398d13c47aa2"
   },
   "outputs": [
    {
     "data": {
      "image/png": "[encoded data removed]",
      "text/plain": [
       "<Figure size 576x576 with 1 Axes>"
      ]
     },
     "metadata": {
      "needs_background": "light"
     },
     "output_type": "display_data"
    }
   ],
   "source": [
    "x_dimensions = [\n",
    "          [\"rich\",\"poor\"],\n",
    "          [\"wealth\",\"poverty\"]\n",
    "]\n",
    "\n",
    "## remember -- check that these words actually exist in your vocab table -- a KeyError likely indicates one word or another is missing.\n",
    "\n",
    "y_dimensions = [\n",
    "                [\"old\",\"young\"],\n",
    "                [\"elderly\",\"youth\"]\n",
    "]\n",
    "\n",
    "test_words = [\"conservative\",\"liberal\",\"socialist\", \"social\",\"european\", \"immigrant\",\"refugee\",\"healthcare\",\"education\", \"welfare\",\"climate\",\"housing\"]\n",
    "\n",
    "## scroll to the previous sections if you need a reminder on how to use the function\n",
    "advanced_projection(\n",
    "    x_dimensions,\n",
    "    y_dimensions,\n",
    "    test_words,\n",
    "    model_tory,\n",
    "    plot_size=8,\n",
    "    xlab = \"rich -- poor\",\n",
    "    ylab = \"elderly -- youth\"\n",
    ")"
   ]
  },
  {
   "cell_type": "code",
   "execution_count": null,
   "metadata": {
    "colab": {
     "base_uri": "https://localhost:8080/",
     "height": 424
    },
    "executionInfo": {
     "elapsed": 315,
     "status": "ok",
     "timestamp": 1647093777297,
     "user": {
      "displayName": "J. Bakema",
      "photoUrl": "https://lh3.googleusercontent.com/a/default-user=s64",
      "userId": "17259339113560054463"
     },
     "user_tz": -60
    },
    "id": "TniIu6rnQMsV",
    "outputId": "1e3b1112-5a9e-47e8-a9a0-e533f5f66feb"
   },
   "outputs": [
    {
     "data": {
      "text/html": [
       "\n",
       "  <div id=\"df-1083da15-4825-4933-b1c3-8733e0279881\">\n",
       "    <div class=\"colab-df-container\">\n",
       "      <div>\n",
       "<style scoped>\n",
       "    .dataframe tbody tr th:only-of-type {\n",
       "        vertical-align: middle;\n",
       "    }\n",
       "\n",
       "    .dataframe tbody tr th {\n",
       "        vertical-align: top;\n",
       "    }\n",
       "\n",
       "    .dataframe thead th {\n",
       "        text-align: right;\n",
       "    }\n",
       "</style>\n",
       "<table border=\"1\" class=\"dataframe\">\n",
       "  <thead>\n",
       "    <tr style=\"text-align: right;\">\n",
       "      <th></th>\n",
       "      <th>lemma</th>\n",
       "      <th>frequency</th>\n",
       "      <th>POS</th>\n",
       "    </tr>\n",
       "  </thead>\n",
       "  <tbody>\n",
       "    <tr>\n",
       "      <th>0</th>\n",
       "      <td>thank</td>\n",
       "      <td>175</td>\n",
       "      <td>NN</td>\n",
       "    </tr>\n",
       "    <tr>\n",
       "      <th>1</th>\n",
       "      <td>warm</td>\n",
       "      <td>14</td>\n",
       "      <td>NN</td>\n",
       "    </tr>\n",
       "    <tr>\n",
       "      <th>2</th>\n",
       "      <td>welcome</td>\n",
       "      <td>99</td>\n",
       "      <td>NN</td>\n",
       "    </tr>\n",
       "    <tr>\n",
       "      <th>3</th>\n",
       "      <td>excuse</td>\n",
       "      <td>33</td>\n",
       "      <td>NN</td>\n",
       "    </tr>\n",
       "    <tr>\n",
       "      <th>4</th>\n",
       "      <td>speech</td>\n",
       "      <td>241</td>\n",
       "      <td>NN</td>\n",
       "    </tr>\n",
       "    <tr>\n",
       "      <th>...</th>\n",
       "      <td>...</td>\n",
       "      <td>...</td>\n",
       "      <td>...</td>\n",
       "    </tr>\n",
       "    <tr>\n",
       "      <th>2711</th>\n",
       "      <td>nonconformist</td>\n",
       "      <td>14</td>\n",
       "      <td>NN</td>\n",
       "    </tr>\n",
       "    <tr>\n",
       "      <th>2712</th>\n",
       "      <td>cobden</td>\n",
       "      <td>21</td>\n",
       "      <td>NN</td>\n",
       "    </tr>\n",
       "    <tr>\n",
       "      <th>2713</th>\n",
       "      <td>nonconformists</td>\n",
       "      <td>12</td>\n",
       "      <td>NNS</td>\n",
       "    </tr>\n",
       "    <tr>\n",
       "      <th>2714</th>\n",
       "      <td>admiral</td>\n",
       "      <td>10</td>\n",
       "      <td>JJ</td>\n",
       "    </tr>\n",
       "    <tr>\n",
       "      <th>2715</th>\n",
       "      <td>municipality</td>\n",
       "      <td>12</td>\n",
       "      <td>NN</td>\n",
       "    </tr>\n",
       "  </tbody>\n",
       "</table>\n",
       "<p>2716 rows × 3 columns</p>\n",
       "</div>\n",
       "      <button class=\"colab-df-convert\" onclick=\"convertToInteractive('df-1083da15-4825-4933-b1c3-8733e0279881')\"\n",
       "              title=\"Convert this dataframe to an interactive table.\"\n",
       "              style=\"display:none;\">\n",
       "        \n",
       "  <svg xmlns=\"http://www.w3.org/2000/svg\" height=\"24px\"viewBox=\"0 0 24 24\"\n",
       "       width=\"24px\">\n",
       "    <path d=\"M0 0h24v24H0V0z\" fill=\"none\"/>\n",
       "    <path d=\"M18.56 5.44l.94 2.06.94-2.06 2.06-.94-2.06-.94-.94-2.06-.94 2.06-2.06.94zm-11 1L8.5 8.5l.94-2.06 2.06-.94-2.06-.94L8.5 2.5l-.94 2.06-2.06.94zm10 10l.94 2.06.94-2.06 2.06-.94-2.06-.94-.94-2.06-.94 2.06-2.06.94z\"/><path d=\"M17.41 7.96l-1.37-1.37c-.4-.4-.92-.59-1.43-.59-.52 0-1.04.2-1.43.59L10.3 9.45l-7.72 7.72c-.78.78-.78 2.05 0 2.83L4 21.41c.39.39.9.59 1.41.59.51 0 1.02-.2 1.41-.59l7.78-7.78 2.81-2.81c.8-.78.8-2.07 0-2.86zM5.41 20L4 18.59l7.72-7.72 1.47 1.35L5.41 20z\"/>\n",
       "  </svg>\n",
       "      </button>\n",
       "      \n",
       "  <style>\n",
       "    .colab-df-container {\n",
       "      display:flex;\n",
       "      flex-wrap:wrap;\n",
       "      gap: 12px;\n",
       "    }\n",
       "\n",
       "    .colab-df-convert {\n",
       "      background-color: #E8F0FE;\n",
       "      border: none;\n",
       "      border-radius: 50%;\n",
       "      cursor: pointer;\n",
       "      display: none;\n",
       "      fill: #1967D2;\n",
       "      height: 32px;\n",
       "      padding: 0 0 0 0;\n",
       "      width: 32px;\n",
       "    }\n",
       "\n",
       "    .colab-df-convert:hover {\n",
       "      background-color: #E2EBFA;\n",
       "      box-shadow: 0px 1px 2px rgba(60, 64, 67, 0.3), 0px 1px 3px 1px rgba(60, 64, 67, 0.15);\n",
       "      fill: #174EA6;\n",
       "    }\n",
       "\n",
       "    [theme=dark] .colab-df-convert {\n",
       "      background-color: #3B4455;\n",
       "      fill: #D2E3FC;\n",
       "    }\n",
       "\n",
       "    [theme=dark] .colab-df-convert:hover {\n",
       "      background-color: #434B5C;\n",
       "      box-shadow: 0px 1px 3px 1px rgba(0, 0, 0, 0.15);\n",
       "      filter: drop-shadow(0px 1px 2px rgba(0, 0, 0, 0.3));\n",
       "      fill: #FFFFFF;\n",
       "    }\n",
       "  </style>\n",
       "\n",
       "      <script>\n",
       "        const buttonEl =\n",
       "          document.querySelector('#df-1083da15-4825-4933-b1c3-8733e0279881 button.colab-df-convert');\n",
       "        buttonEl.style.display =\n",
       "          google.colab.kernel.accessAllowed ? 'block' : 'none';\n",
       "\n",
       "        async function convertToInteractive(key) {\n",
       "          const element = document.querySelector('#df-1083da15-4825-4933-b1c3-8733e0279881');\n",
       "          const dataTable =\n",
       "            await google.colab.kernel.invokeFunction('convertToInteractive',\n",
       "                                                     [key], {});\n",
       "          if (!dataTable) return;\n",
       "\n",
       "          const docLinkHtml = 'Like what you see? Visit the ' +\n",
       "            '<a target=\"_blank\" href=https://colab.research.google.com/notebooks/data_table.ipynb>data table notebook</a>'\n",
       "            + ' to learn more about interactive tables.';\n",
       "          element.innerHTML = '';\n",
       "          dataTable['output_type'] = 'display_data';\n",
       "          await google.colab.output.renderOutput(dataTable, element);\n",
       "          const docLink = document.createElement('div');\n",
       "          docLink.innerHTML = docLinkHtml;\n",
       "          element.appendChild(docLink);\n",
       "        }\n",
       "      </script>\n",
       "    </div>\n",
       "  </div>\n",
       "  "
      ],
      "text/plain": [
       "               lemma  frequency  POS\n",
       "0              thank        175   NN\n",
       "1               warm         14   NN\n",
       "2            welcome         99   NN\n",
       "3             excuse         33   NN\n",
       "4             speech        241   NN\n",
       "...              ...        ...  ...\n",
       "2711   nonconformist         14   NN\n",
       "2712          cobden         21   NN\n",
       "2713  nonconformists         12  NNS\n",
       "2714         admiral         10   JJ\n",
       "2715    municipality         12   NN\n",
       "\n",
       "[2716 rows x 3 columns]"
      ]
     },
     "execution_count": 29,
     "metadata": {},
     "output_type": "execute_result"
    }
   ],
   "source": [
    "model_tory_vocab_df"
   ]
  },
  {
   "cell_type": "markdown",
   "metadata": {
    "id": "YuWk0rcokaA8"
   },
   "source": [
    "We look at some of the 'similar words' for `black man` and `white man`."
   ]
  },
  {
   "cell_type": "code",
   "execution_count": null,
   "metadata": {
    "colab": {
     "base_uri": "https://localhost:8080/"
    },
    "executionInfo": {
     "elapsed": 305,
     "status": "ok",
     "timestamp": 1647093796746,
     "user": {
      "displayName": "J. Bakema",
      "photoUrl": "https://lh3.googleusercontent.com/a/default-user=s64",
      "userId": "17259339113560054463"
     },
     "user_tz": -60
    },
    "id": "1imjMuNQRZKX",
    "outputId": "c4545d50-4052-43fe-c00d-9d2f94eecaf4"
   },
   "outputs": [
    {
     "data": {
      "text/plain": [
       "[('serviceman', 0.7290402054786682),\n",
       " ('married', 0.6989960670471191),\n",
       " ('girl', 0.6935058832168579),\n",
       " ('rape', 0.640291690826416),\n",
       " ('woman', 0.6256468296051025),\n",
       " ('policeman', 0.5976895689964294),\n",
       " ('boy', 0.5653048753738403),\n",
       " ('ten', 0.5544247627258301),\n",
       " ('person', 0.5376383066177368),\n",
       " ('teenager', 0.5370511412620544),\n",
       " ('soldier', 0.5361644625663757),\n",
       " ('mother', 0.5327411890029907),\n",
       " ('brave', 0.5249442458152771),\n",
       " ('image', 0.5222061276435852),\n",
       " ('thousand', 0.5177652835845947)]"
      ]
     },
     "execution_count": 32,
     "metadata": {},
     "output_type": "execute_result"
    }
   ],
   "source": [
    "model_tory.most_similar(['black', 'man'], topn=15)"
   ]
  },
  {
   "cell_type": "code",
   "execution_count": null,
   "metadata": {
    "colab": {
     "base_uri": "https://localhost:8080/"
    },
    "executionInfo": {
     "elapsed": 4,
     "status": "ok",
     "timestamp": 1647093797698,
     "user": {
      "displayName": "J. Bakema",
      "photoUrl": "https://lh3.googleusercontent.com/a/default-user=s64",
      "userId": "17259339113560054463"
     },
     "user_tz": -60
    },
    "id": "5Fvj2KwKTsQE",
    "outputId": "06fe5986-1d5d-49db-f305-e9515a789168"
   },
   "outputs": [
    {
     "data": {
      "text/plain": [
       "[('serviceman', 0.6033401489257812),\n",
       " ('married', 0.595804750919342),\n",
       " ('paper', 0.563920259475708),\n",
       " ('black', 0.5535687208175659),\n",
       " ('woman', 0.5275039672851562),\n",
       " ('dr.', 0.5222227573394775),\n",
       " ('rape', 0.5157157778739929),\n",
       " ('teenager', 0.5089765787124634),\n",
       " ('music', 0.5022870302200317),\n",
       " ('husband', 0.4993596076965332),\n",
       " ('name', 0.48447340726852417),\n",
       " ('girl', 0.4824097156524658),\n",
       " ('policeman', 0.46432825922966003),\n",
       " ('art', 0.463990718126297),\n",
       " ('kick', 0.4531286656856537)]"
      ]
     },
     "execution_count": 33,
     "metadata": {},
     "output_type": "execute_result"
    }
   ],
   "source": [
    "model_tory.most_similar(['white', 'man'], topn=15)"
   ]
  },
  {
   "cell_type": "code",
   "execution_count": null,
   "metadata": {
    "id": "2NqTtywaj01w"
   },
   "outputs": [],
   "source": []
  },
  {
   "cell_type": "markdown",
   "metadata": {
    "id": "LbnRjaSij1RX"
   },
   "source": [
    "Mapping bias between white men and black men, using words that appear close to them."
   ]
  },
  {
   "cell_type": "code",
   "execution_count": null,
   "metadata": {
    "id": "AiGrSUqCReNk"
   },
   "outputs": [],
   "source": [
    "tory_df_black_man = pd.DataFrame(model_tory.most_similar(['black','man'],topn=15))"
   ]
  },
  {
   "cell_type": "code",
   "execution_count": null,
   "metadata": {
    "id": "yIpMqZN5RlQ-"
   },
   "outputs": [],
   "source": [
    "tory_df_white_man = pd.DataFrame(model_tory.most_similar(['white','man'], topn=15))"
   ]
  },
  {
   "cell_type": "markdown",
   "metadata": {
    "id": "QxhsVZmtkux6"
   },
   "source": [
    "Combining both df's, we keep the NaN's here because it also shows words that appear in one group and not in the other"
   ]
  },
  {
   "cell_type": "code",
   "execution_count": null,
   "metadata": {
    "id": "XwkOLVjyemb4"
   },
   "outputs": [],
   "source": [
    "Combined_dfs = pd.merge(tory_df_black_man\n",
    "                         ,tory_df_white_man,on=0, how='outer').rename(columns={0:'words','1_x': 'black_man', '1_y': 'white_man'})"
   ]
  },
  {
   "cell_type": "code",
   "execution_count": null,
   "metadata": {
    "id": "7m6WP8g6esNq"
   },
   "outputs": [],
   "source": [
    "Combined_dfs;"
   ]
  },
  {
   "cell_type": "code",
   "execution_count": null,
   "metadata": {
    "colab": {
     "base_uri": "https://localhost:8080/",
     "height": 609
    },
    "executionInfo": {
     "elapsed": 692,
     "status": "ok",
     "timestamp": 1647093852145,
     "user": {
      "displayName": "J. Bakema",
      "photoUrl": "https://lh3.googleusercontent.com/a/default-user=s64",
      "userId": "17259339113560054463"
     },
     "user_tz": -60
    },
    "id": "2MqBVT6MZpxG",
    "outputId": "93db8c22-557a-4f9f-9112-771c5cf0fe84"
   },
   "outputs": [
    {
     "data": {
      "text/plain": [
       "Text(0, 0.5, 'words')"
      ]
     },
     "execution_count": 39,
     "metadata": {},
     "output_type": "execute_result"
    },
    {
     "data": {
      "image/png": "[encoded data removed]",
      "text/plain": [
       "<Figure size 1440x720 with 1 Axes>"
      ]
     },
     "metadata": {
      "needs_background": "light"
     },
     "output_type": "display_data"
    }
   ],
   "source": [
    "Combined_plot = Combined_dfs.plot.barh(x='words', figsize=(20,10))\n",
    "Combined_plot.set_xlim(0,1)\n",
    "\n",
    "Combined_plot.set_ylabel('words')"
   ]
  },
  {
   "cell_type": "code",
   "execution_count": null,
   "metadata": {
    "id": "Vu0T7iYBXglc"
   },
   "outputs": [],
   "source": []
  }
 ],
 "metadata": {
  "colab": {
   "collapsed_sections": [],
   "name": "Tory_vec",
   "provenance": []
  },
  "kernelspec": {
   "display_name": "Python 3 (ipykernel)",
   "language": "python",
   "name": "python3"
  },
  "language_info": {
   "codemirror_mode": {
    "name": "ipython",
    "version": 3
   },
   "file_extension": ".py",
   "mimetype": "text/x-python",
   "name": "python",
   "nbconvert_exporter": "python",
   "pygments_lexer": "ipython3",
   "version": "3.9.13"
  }
 },
 "nbformat": 4,
 "nbformat_minor": 1
}
